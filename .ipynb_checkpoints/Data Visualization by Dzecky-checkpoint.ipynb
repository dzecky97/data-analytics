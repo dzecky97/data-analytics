{
 "cells": [
  {
   "cell_type": "code",
   "execution_count": 1,
   "id": "0d26f071",
   "metadata": {},
   "outputs": [],
   "source": [
    "import pandas as pd\n",
    "import matplotlib.pyplot as plt\n",
    "import numpy as np"
   ]
  },
  {
   "cell_type": "code",
   "execution_count": 2,
   "id": "00fc67be",
   "metadata": {},
   "outputs": [
    {
     "data": {
      "text/html": [
       "<div>\n",
       "<style scoped>\n",
       "    .dataframe tbody tr th:only-of-type {\n",
       "        vertical-align: middle;\n",
       "    }\n",
       "\n",
       "    .dataframe tbody tr th {\n",
       "        vertical-align: top;\n",
       "    }\n",
       "\n",
       "    .dataframe thead th {\n",
       "        text-align: right;\n",
       "    }\n",
       "</style>\n",
       "<table border=\"1\" class=\"dataframe\">\n",
       "  <thead>\n",
       "    <tr style=\"text-align: right;\">\n",
       "      <th></th>\n",
       "      <th>title</th>\n",
       "      <th>release_date</th>\n",
       "      <th>genres</th>\n",
       "      <th>original_language</th>\n",
       "      <th>vote_average</th>\n",
       "      <th>vote_count</th>\n",
       "      <th>popularity</th>\n",
       "      <th>budget</th>\n",
       "      <th>production_companies</th>\n",
       "      <th>revenue</th>\n",
       "      <th>runtime</th>\n",
       "      <th>profit</th>\n",
       "    </tr>\n",
       "  </thead>\n",
       "  <tbody>\n",
       "    <tr>\n",
       "      <th>0</th>\n",
       "      <td>The Pope's Exorcist</td>\n",
       "      <td>2023-04-05</td>\n",
       "      <td>['Horror', 'Mystery', 'Thriller']</td>\n",
       "      <td>English</td>\n",
       "      <td>7.4</td>\n",
       "      <td>619</td>\n",
       "      <td>5089.969</td>\n",
       "      <td>18000000</td>\n",
       "      <td>['Screen Gems', '2.0 Entertainment', 'Jesus &amp; ...</td>\n",
       "      <td>65675816</td>\n",
       "      <td>103</td>\n",
       "      <td>47675816</td>\n",
       "    </tr>\n",
       "    <tr>\n",
       "      <th>1</th>\n",
       "      <td>Ant-Man and the Wasp: Quantumania</td>\n",
       "      <td>2023-02-15</td>\n",
       "      <td>['Action', 'Adventure', 'Science Fiction']</td>\n",
       "      <td>English</td>\n",
       "      <td>6.6</td>\n",
       "      <td>2294</td>\n",
       "      <td>4665.438</td>\n",
       "      <td>200000000</td>\n",
       "      <td>['Marvel Studios', 'Kevin Feige Productions']</td>\n",
       "      <td>464566092</td>\n",
       "      <td>125</td>\n",
       "      <td>264566092</td>\n",
       "    </tr>\n",
       "    <tr>\n",
       "      <th>2</th>\n",
       "      <td>The Super Mario Bros. Movie</td>\n",
       "      <td>2023-04-05</td>\n",
       "      <td>['Animation', 'Adventure', 'Family', 'Fantasy'...</td>\n",
       "      <td>English</td>\n",
       "      <td>7.5</td>\n",
       "      <td>1861</td>\n",
       "      <td>3935.550</td>\n",
       "      <td>100000000</td>\n",
       "      <td>['Universal Pictures', 'Illumination', 'Ninten...</td>\n",
       "      <td>1121048165</td>\n",
       "      <td>92</td>\n",
       "      <td>1021048165</td>\n",
       "    </tr>\n",
       "    <tr>\n",
       "      <th>3</th>\n",
       "      <td>Ghosted</td>\n",
       "      <td>2023-04-18</td>\n",
       "      <td>['Action', 'Comedy', 'Romance']</td>\n",
       "      <td>English</td>\n",
       "      <td>7.2</td>\n",
       "      <td>652</td>\n",
       "      <td>2791.532</td>\n",
       "      <td>0</td>\n",
       "      <td>['Skydance Media', 'Apple Studios']</td>\n",
       "      <td>0</td>\n",
       "      <td>120</td>\n",
       "      <td>0</td>\n",
       "    </tr>\n",
       "    <tr>\n",
       "      <th>4</th>\n",
       "      <td>Shazam! Fury of the Gods</td>\n",
       "      <td>2023-03-15</td>\n",
       "      <td>['Action', 'Comedy', 'Fantasy', 'Adventure']</td>\n",
       "      <td>English</td>\n",
       "      <td>6.8</td>\n",
       "      <td>1510</td>\n",
       "      <td>2702.593</td>\n",
       "      <td>125000000</td>\n",
       "      <td>['New Line Cinema', 'The Safran Company', 'DC ...</td>\n",
       "      <td>133437105</td>\n",
       "      <td>130</td>\n",
       "      <td>8437105</td>\n",
       "    </tr>\n",
       "  </tbody>\n",
       "</table>\n",
       "</div>"
      ],
      "text/plain": [
       "                               title release_date  \\\n",
       "0                The Pope's Exorcist   2023-04-05   \n",
       "1  Ant-Man and the Wasp: Quantumania   2023-02-15   \n",
       "2        The Super Mario Bros. Movie   2023-04-05   \n",
       "3                            Ghosted   2023-04-18   \n",
       "4           Shazam! Fury of the Gods   2023-03-15   \n",
       "\n",
       "                                              genres original_language  \\\n",
       "0                  ['Horror', 'Mystery', 'Thriller']           English   \n",
       "1         ['Action', 'Adventure', 'Science Fiction']           English   \n",
       "2  ['Animation', 'Adventure', 'Family', 'Fantasy'...           English   \n",
       "3                    ['Action', 'Comedy', 'Romance']           English   \n",
       "4       ['Action', 'Comedy', 'Fantasy', 'Adventure']           English   \n",
       "\n",
       "   vote_average  vote_count  popularity     budget  \\\n",
       "0           7.4         619    5089.969   18000000   \n",
       "1           6.6        2294    4665.438  200000000   \n",
       "2           7.5        1861    3935.550  100000000   \n",
       "3           7.2         652    2791.532          0   \n",
       "4           6.8        1510    2702.593  125000000   \n",
       "\n",
       "                                production_companies     revenue  runtime  \\\n",
       "0  ['Screen Gems', '2.0 Entertainment', 'Jesus & ...    65675816      103   \n",
       "1      ['Marvel Studios', 'Kevin Feige Productions']   464566092      125   \n",
       "2  ['Universal Pictures', 'Illumination', 'Ninten...  1121048165       92   \n",
       "3                ['Skydance Media', 'Apple Studios']           0      120   \n",
       "4  ['New Line Cinema', 'The Safran Company', 'DC ...   133437105      130   \n",
       "\n",
       "       profit  \n",
       "0    47675816  \n",
       "1   264566092  \n",
       "2  1021048165  \n",
       "3           0  \n",
       "4     8437105  "
      ]
     },
     "execution_count": 2,
     "metadata": {},
     "output_type": "execute_result"
    }
   ],
   "source": [
    "df = pd.read_csv('movies_dz.csv')\n",
    "df.head()"
   ]
  },
  {
   "cell_type": "code",
   "execution_count": 3,
   "id": "3ec94d4b",
   "metadata": {},
   "outputs": [
    {
     "data": {
      "text/plain": [
       "(9223, 12)"
      ]
     },
     "execution_count": 3,
     "metadata": {},
     "output_type": "execute_result"
    }
   ],
   "source": [
    "df.shape"
   ]
  },
  {
   "cell_type": "code",
   "execution_count": 4,
   "id": "dfa14d96",
   "metadata": {},
   "outputs": [
    {
     "data": {
      "text/plain": [
       "title                    object\n",
       "release_date             object\n",
       "genres                   object\n",
       "original_language        object\n",
       "vote_average            float64\n",
       "vote_count                int64\n",
       "popularity              float64\n",
       "budget                    int64\n",
       "production_companies     object\n",
       "revenue                   int64\n",
       "runtime                   int64\n",
       "profit                    int64\n",
       "dtype: object"
      ]
     },
     "execution_count": 4,
     "metadata": {},
     "output_type": "execute_result"
    }
   ],
   "source": [
    "df.dtypes"
   ]
  },
  {
   "cell_type": "code",
   "execution_count": 5,
   "id": "37fef325",
   "metadata": {},
   "outputs": [],
   "source": [
    "max_va = df.sort_values('vote_average', ascending=False).head(10)\n",
    "#max_va"
   ]
  },
  {
   "cell_type": "code",
   "execution_count": 6,
   "id": "bb7e4d1d",
   "metadata": {},
   "outputs": [],
   "source": [
    "max_vc = df.sort_values('vote_count', ascending=False).head(10)\n",
    "#max_vc"
   ]
  },
  {
   "cell_type": "code",
   "execution_count": 7,
   "id": "271f500d",
   "metadata": {},
   "outputs": [],
   "source": [
    "max_popularity = df.sort_values('popularity', ascending=False).head(10)\n",
    "#max_popularity"
   ]
  },
  {
   "cell_type": "code",
   "execution_count": 8,
   "id": "fe5661d6",
   "metadata": {},
   "outputs": [],
   "source": [
    "max_budget = df.sort_values('budget', ascending=False).head(10)\n",
    "#max_budget"
   ]
  },
  {
   "cell_type": "code",
   "execution_count": 9,
   "id": "80ecf21c",
   "metadata": {},
   "outputs": [],
   "source": [
    "max_revenue = df.sort_values('revenue', ascending=False).head(10)\n",
    "#max_revenue"
   ]
  },
  {
   "cell_type": "code",
   "execution_count": 10,
   "id": "a908157e",
   "metadata": {},
   "outputs": [],
   "source": [
    "max_profit = df.sort_values('profit', ascending=False).head(10)\n",
    "#max_profit"
   ]
  },
  {
   "cell_type": "code",
   "execution_count": 11,
   "id": "e49dbfcf",
   "metadata": {},
   "outputs": [],
   "source": [
    "max_loss = df.sort_values('profit').head(10)\n",
    "max_loss['profit'] = -max_loss['profit']\n",
    "max_loss = max_loss.rename(columns={'profit':'loss'})\n",
    "#max_loss"
   ]
  },
  {
   "cell_type": "code",
   "execution_count": 12,
   "id": "d8d91977",
   "metadata": {},
   "outputs": [
    {
     "data": {
      "text/plain": [
       "\"fig, axs = plt.subplots(7, 1, figsize=(10,25))\\n\\naxs[0].barh(max_va['title'], max_va['vote_average'], color=plt.get_cmap('tab10').colors)\\naxs[0].set_title('Top 10 Highest Vote Count Movies')\\nfor i in range(len(max_va)):\\n    axs[0].text(x=max_va['vote_average'].iloc[i], y=max_va['title'].iloc[i], s=max_va['vote_average'].iloc[i])\\n        \\naxs[1].barh(max_vc['title'], max_vc['vote_count'], color=plt.get_cmap('tab20c').colors)\\naxs[1].set_title('Top 10 Highest Vote Average Movies')\\nfor i in range(len(max_vc)):\\n    axs[1].text(max_vc['vote_count'].iloc[i], max_vc['title'].iloc[i], max_vc['vote_count'].iloc[i])\\n\\naxs[2].barh(max_popularity['title'], max_popularity['popularity'], color=plt.get_cmap('tab20_r').colors)\\naxs[2].set_title('Top 10 Most Popular Movies')\\nfor i in range(len(max_popularity)):\\n    axs[2].text(max_popularity['popularity'].iloc[i], max_popularity['title'].iloc[i], max_popularity['popularity'].iloc[i])\\n\\naxs[3].barh(max_budget['title'], max_budget['budget'], color=plt.get_cmap('tab20b').colors)\\naxs[3].set_title('Top 10 Highest Budget Movies')\\nfor i in range(len(max_budget)):\\n    axs[3].text(max_budget['budget'].iloc[i], max_budget['title'].iloc[i], max_budget['budget'].iloc[i])\\n\\naxs[4].barh(max_revenue['title'], max_revenue['revenue'], color=plt.get_cmap('tab20c_r').colors)\\naxs[4].set_title('Top 10 Highest Revenue Movies')\\nfor i in range(len(max_revenue)):\\n    axs[4].text(max_revenue['revenue'].iloc[i], max_revenue['title'].iloc[i], max_revenue['revenue'].iloc[i])\\n\\naxs[5].barh(max_profit['title'], max_profit['profit'], color=plt.get_cmap('tab10_r').colors)\\naxs[5].set_title('Top 10 Most Profitable Movies')\\nfor i in range(len(max_profit)):\\n    axs[5].text(max_profit['profit'].iloc[i], max_profit['title'].iloc[i], max_profit['profit'].iloc[i])\\n\\naxs[6].barh(max_loss['title'], max_loss['loss'], color=plt.get_cmap('tab20b_r').colors)\\naxs[6].set_title('Top 10 Loss Making Movies')\\nfor i in range(len(max_loss)):\\n    axs[6].text(max_loss['loss'].iloc[i], max_loss['title'].iloc[i], max_loss['loss'].iloc[i])\\n\\nplt.show()\""
      ]
     },
     "execution_count": 12,
     "metadata": {},
     "output_type": "execute_result"
    }
   ],
   "source": [
    "\"\"\"fig, axs = plt.subplots(7, 1, figsize=(10,25))\n",
    "\n",
    "axs[0].barh(max_va['title'], max_va['vote_average'], color=plt.get_cmap('tab10').colors)\n",
    "axs[0].set_title('Top 10 Highest Vote Count Movies')\n",
    "for i in range(len(max_va)):\n",
    "    axs[0].text(x=max_va['vote_average'].iloc[i], y=max_va['title'].iloc[i], s=max_va['vote_average'].iloc[i])\n",
    "        \n",
    "axs[1].barh(max_vc['title'], max_vc['vote_count'], color=plt.get_cmap('tab20c').colors)\n",
    "axs[1].set_title('Top 10 Highest Vote Average Movies')\n",
    "for i in range(len(max_vc)):\n",
    "    axs[1].text(max_vc['vote_count'].iloc[i], max_vc['title'].iloc[i], max_vc['vote_count'].iloc[i])\n",
    "\n",
    "axs[2].barh(max_popularity['title'], max_popularity['popularity'], color=plt.get_cmap('tab20_r').colors)\n",
    "axs[2].set_title('Top 10 Most Popular Movies')\n",
    "for i in range(len(max_popularity)):\n",
    "    axs[2].text(max_popularity['popularity'].iloc[i], max_popularity['title'].iloc[i], max_popularity['popularity'].iloc[i])\n",
    "\n",
    "axs[3].barh(max_budget['title'], max_budget['budget'], color=plt.get_cmap('tab20b').colors)\n",
    "axs[3].set_title('Top 10 Highest Budget Movies')\n",
    "for i in range(len(max_budget)):\n",
    "    axs[3].text(max_budget['budget'].iloc[i], max_budget['title'].iloc[i], max_budget['budget'].iloc[i])\n",
    "\n",
    "axs[4].barh(max_revenue['title'], max_revenue['revenue'], color=plt.get_cmap('tab20c_r').colors)\n",
    "axs[4].set_title('Top 10 Highest Revenue Movies')\n",
    "for i in range(len(max_revenue)):\n",
    "    axs[4].text(max_revenue['revenue'].iloc[i], max_revenue['title'].iloc[i], max_revenue['revenue'].iloc[i])\n",
    "\n",
    "axs[5].barh(max_profit['title'], max_profit['profit'], color=plt.get_cmap('tab10_r').colors)\n",
    "axs[5].set_title('Top 10 Most Profitable Movies')\n",
    "for i in range(len(max_profit)):\n",
    "    axs[5].text(max_profit['profit'].iloc[i], max_profit['title'].iloc[i], max_profit['profit'].iloc[i])\n",
    "\n",
    "axs[6].barh(max_loss['title'], max_loss['loss'], color=plt.get_cmap('tab20b_r').colors)\n",
    "axs[6].set_title('Top 10 Loss Making Movies')\n",
    "for i in range(len(max_loss)):\n",
    "    axs[6].text(max_loss['loss'].iloc[i], max_loss['title'].iloc[i], max_loss['loss'].iloc[i])\n",
    "\n",
    "plt.show()\"\"\""
   ]
  },
  {
   "cell_type": "code",
   "execution_count": 13,
   "id": "92e55369",
   "metadata": {},
   "outputs": [],
   "source": [
    "#df['original_language'].value_counts()"
   ]
  },
  {
   "cell_type": "code",
   "execution_count": 17,
   "id": "f1fe81c5",
   "metadata": {},
   "outputs": [
    {
     "data": {
      "text/plain": [
       "19"
      ]
     },
     "execution_count": 17,
     "metadata": {},
     "output_type": "execute_result"
    }
   ],
   "source": [
    "genres_set = set()\n",
    "\n",
    "for i in df['genres']:\n",
    "    genres = eval(i)\n",
    "    genres_set.update(genres)\n",
    "\n",
    "len(genres_set)"
   ]
  },
  {
   "cell_type": "code",
   "execution_count": 19,
   "id": "f00a1237",
   "metadata": {},
   "outputs": [
    {
     "name": "stdout",
     "output_type": "stream",
     "text": [
      "Western\n",
      "1 Ghosts of the Ozarks\n",
      "2 Django Unchained\n",
      "3 Spirit: Stallion of the Cimarron\n",
      "4 Paws of Fury: The Legend of Hank\n",
      "5 Tom and Jerry Cowboy Up!\n",
      "\n",
      "\n",
      "Science Fiction\n",
      "1 Ant-Man and the Wasp: Quantumania\n",
      "2 Guardians of the Galaxy Volume 3\n",
      "3 Avatar: The Way of Water\n",
      "4 65\n",
      "5 Black Panther: Wakanda Forever\n",
      "\n",
      "\n",
      "Horror\n",
      "1 The Pope's Exorcist\n",
      "2 Scream VI\n",
      "3 Evil Dead Rise\n",
      "4 The Communion Girl\n",
      "5 Winnie the Pooh: Blood and Honey\n",
      "\n",
      "\n",
      "Crime\n",
      "1 AKA\n",
      "2 John Wick: Chapter 4\n",
      "3 Murder Mystery 2\n",
      "4 Cocaine Bear\n",
      "5 Kill Boksoon\n",
      "\n",
      "\n",
      "History\n",
      "1 The Last Kingdom: Seven Kings Must Die\n",
      "2 The Woman King\n",
      "3 3-D Sex and Zen: Extreme Ecstasy\n",
      "4 Medieval\n",
      "5 Devotion\n",
      "\n",
      "\n",
      "Romance\n",
      "1 Ghosted\n",
      "2 Shotgun Wedding\n",
      "3 The Quintessential Quintuplets Movie\n",
      "4 Unhappily Ever After\n",
      "5 The Forbidden Legend: Sex & Chopsticks 2\n",
      "\n",
      "\n",
      "Adventure\n",
      "1 Ant-Man and the Wasp: Quantumania\n",
      "2 The Super Mario Bros. Movie\n",
      "3 Shazam! Fury of the Gods\n",
      "4 Guardians of the Galaxy Volume 3\n",
      "5 Avatar: The Way of Water\n",
      "\n",
      "\n",
      "Action\n",
      "1 Ant-Man and the Wasp: Quantumania\n",
      "2 Ghosted\n",
      "3 Shazam! Fury of the Gods\n",
      "4 Guardians of the Galaxy Volume 3\n",
      "5 Avatar: The Way of Water\n",
      "\n",
      "\n",
      "Music\n",
      "1 Encanto at the Hollywood Bowl\n",
      "2 Guillermo del Toro's Pinocchio\n",
      "3 Lyle, Lyle, Crocodile\n",
      "4 Blue's Big City Adventure\n",
      "5 Coco\n",
      "\n",
      "\n",
      "Documentary\n",
      "1 Money Shot: The Pornhub Story\n",
      "2 Orgasm Inc: The Story of OneTaste\n",
      "3 Cocaine Bear: The True Story\n",
      "4 Harry Potter 20th Anniversary: Return to Hogwarts\n",
      "5 Melody Makers\n",
      "\n",
      "\n",
      "War\n",
      "1 The Last Kingdom: Seven Kings Must Die\n",
      "2 Sisu\n",
      "3 Sniper: The White Raven\n",
      "4 Gold Run\n",
      "5 Devotion\n",
      "\n",
      "\n",
      "Family\n",
      "1 The Super Mario Bros. Movie\n",
      "2 Peter Pan & Wendy\n",
      "3 Puss in Boots: The Last Wish\n",
      "4 Pirates Down the Street II: The Ninjas from Across\n",
      "5 Mummies\n",
      "\n",
      "\n",
      "Drama\n",
      "1 Creed III\n",
      "2 The Last Kingdom: Seven Kings Must Die\n",
      "3 Puss in Boots: The Last Wish\n",
      "4 The Park\n",
      "5 Marcel the Shell with Shoes On\n",
      "\n",
      "\n",
      "Fantasy\n",
      "1 The Super Mario Bros. Movie\n",
      "2 Shazam! Fury of the Gods\n",
      "3 Dungeons & Dragons: Honor Among Thieves\n",
      "4 Peter Pan & Wendy\n",
      "5 Puss in Boots: The Last Wish\n",
      "\n",
      "\n",
      "TV Movie\n",
      "1 Girl in the Basement\n",
      "2 Teen Wolf: The Movie\n",
      "3 Dungeons & Dragons: Wrath of the Dragon God\n",
      "4 Monster High: The Movie\n",
      "5 Miraculous World: New York, United HeroeZ\n",
      "\n",
      "\n",
      "Mystery\n",
      "1 The Pope's Exorcist\n",
      "2 Scream VI\n",
      "3 Clock\n",
      "4 Invitation to a Murder\n",
      "5 Batman: The Doom That Came to Gotham\n",
      "\n",
      "\n",
      "Thriller\n",
      "1 The Pope's Exorcist\n",
      "2 Scream VI\n",
      "3 AKA\n",
      "4 John Wick: Chapter 4\n",
      "5 Cocaine Bear\n",
      "\n",
      "\n",
      "Comedy\n",
      "1 The Super Mario Bros. Movie\n",
      "2 Ghosted\n",
      "3 Shazam! Fury of the Gods\n",
      "4 Dungeons & Dragons: Honor Among Thieves\n",
      "5 Puss in Boots: The Last Wish\n",
      "\n",
      "\n",
      "Animation\n",
      "1 The Super Mario Bros. Movie\n",
      "2 Puss in Boots: The Last Wish\n",
      "3 Justice League x RWBY: Super Heroes & Huntsmen, Part One\n",
      "4 Mummies\n",
      "5 That Time I Got Reincarnated as a Slime the Movie: Scarlet Bond\n",
      "\n",
      "\n"
     ]
    }
   ],
   "source": [
    "for i in genres_set:\n",
    "    df[df['genres'].str.contains(i)].sort_values('popularity', ascending=False).head(5)\n",
    "    print(i)\n",
    "    for j, k in enumerate(df[df['genres'].str.contains(i)].sort_values('popularity', ascending=False).head(5)['title']):\n",
    "        print(j+1, k)\n",
    "    print('\\n')"
   ]
  },
  {
   "cell_type": "code",
   "execution_count": null,
   "id": "90557731",
   "metadata": {},
   "outputs": [],
   "source": []
  }
 ],
 "metadata": {
  "kernelspec": {
   "display_name": "Python 3 (ipykernel)",
   "language": "python",
   "name": "python3"
  },
  "language_info": {
   "codemirror_mode": {
    "name": "ipython",
    "version": 3
   },
   "file_extension": ".py",
   "mimetype": "text/x-python",
   "name": "python",
   "nbconvert_exporter": "python",
   "pygments_lexer": "ipython3",
   "version": "3.9.13"
  }
 },
 "nbformat": 4,
 "nbformat_minor": 5
}
