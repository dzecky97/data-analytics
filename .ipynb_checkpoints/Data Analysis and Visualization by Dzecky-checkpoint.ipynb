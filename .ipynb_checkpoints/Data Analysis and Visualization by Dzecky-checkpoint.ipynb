{
 "cells": [
  {
   "cell_type": "code",
   "execution_count": 1,
   "id": "f032d5bd",
   "metadata": {},
   "outputs": [],
   "source": [
    "import numpy as np\n",
    "import pandas as pd\n",
    "import matplotlib.pyplot as plt"
   ]
  },
  {
   "cell_type": "code",
   "execution_count": 2,
   "id": "03f9d610",
   "metadata": {},
   "outputs": [
    {
     "data": {
      "text/html": [
       "<div>\n",
       "<style scoped>\n",
       "    .dataframe tbody tr th:only-of-type {\n",
       "        vertical-align: middle;\n",
       "    }\n",
       "\n",
       "    .dataframe tbody tr th {\n",
       "        vertical-align: top;\n",
       "    }\n",
       "\n",
       "    .dataframe thead th {\n",
       "        text-align: right;\n",
       "    }\n",
       "</style>\n",
       "<table border=\"1\" class=\"dataframe\">\n",
       "  <thead>\n",
       "    <tr style=\"text-align: right;\">\n",
       "      <th></th>\n",
       "      <th>id</th>\n",
       "      <th>title</th>\n",
       "      <th>release_date</th>\n",
       "      <th>genres</th>\n",
       "      <th>original_language</th>\n",
       "      <th>vote_average</th>\n",
       "      <th>vote_count</th>\n",
       "      <th>popularity</th>\n",
       "      <th>overview</th>\n",
       "      <th>budget</th>\n",
       "      <th>production_companies</th>\n",
       "      <th>revenue</th>\n",
       "      <th>runtime</th>\n",
       "      <th>tagline</th>\n",
       "    </tr>\n",
       "  </thead>\n",
       "  <tbody>\n",
       "    <tr>\n",
       "      <th>0</th>\n",
       "      <td>758323</td>\n",
       "      <td>The Pope's Exorcist</td>\n",
       "      <td>2023-04-05</td>\n",
       "      <td>['Horror', 'Mystery', 'Thriller']</td>\n",
       "      <td>English</td>\n",
       "      <td>7.4</td>\n",
       "      <td>619</td>\n",
       "      <td>5089.969</td>\n",
       "      <td>Father Gabriele Amorth, Chief Exorcist of the ...</td>\n",
       "      <td>18000000</td>\n",
       "      <td>['Screen Gems', '2.0 Entertainment', 'Jesus &amp; ...</td>\n",
       "      <td>65675816</td>\n",
       "      <td>103</td>\n",
       "      <td>Inspired by the actual files of Father Gabriel...</td>\n",
       "    </tr>\n",
       "    <tr>\n",
       "      <th>1</th>\n",
       "      <td>640146</td>\n",
       "      <td>Ant-Man and the Wasp: Quantumania</td>\n",
       "      <td>2023-02-15</td>\n",
       "      <td>['Action', 'Adventure', 'Science Fiction']</td>\n",
       "      <td>English</td>\n",
       "      <td>6.6</td>\n",
       "      <td>2294</td>\n",
       "      <td>4665.438</td>\n",
       "      <td>Super-Hero partners Scott Lang and Hope van Dy...</td>\n",
       "      <td>200000000</td>\n",
       "      <td>['Marvel Studios', 'Kevin Feige Productions']</td>\n",
       "      <td>464566092</td>\n",
       "      <td>125</td>\n",
       "      <td>Witness the beginning of a new dynasty.</td>\n",
       "    </tr>\n",
       "    <tr>\n",
       "      <th>2</th>\n",
       "      <td>502356</td>\n",
       "      <td>The Super Mario Bros. Movie</td>\n",
       "      <td>2023-04-05</td>\n",
       "      <td>['Animation', 'Adventure', 'Family', 'Fantasy'...</td>\n",
       "      <td>English</td>\n",
       "      <td>7.5</td>\n",
       "      <td>1861</td>\n",
       "      <td>3935.550</td>\n",
       "      <td>While working underground to fix a water main,...</td>\n",
       "      <td>100000000</td>\n",
       "      <td>['Universal Pictures', 'Illumination', 'Ninten...</td>\n",
       "      <td>1121048165</td>\n",
       "      <td>92</td>\n",
       "      <td>NaN</td>\n",
       "    </tr>\n",
       "    <tr>\n",
       "      <th>3</th>\n",
       "      <td>868759</td>\n",
       "      <td>Ghosted</td>\n",
       "      <td>2023-04-18</td>\n",
       "      <td>['Action', 'Comedy', 'Romance']</td>\n",
       "      <td>English</td>\n",
       "      <td>7.2</td>\n",
       "      <td>652</td>\n",
       "      <td>2791.532</td>\n",
       "      <td>Salt-of-the-earth Cole falls head over heels f...</td>\n",
       "      <td>0</td>\n",
       "      <td>['Skydance Media', 'Apple Studios']</td>\n",
       "      <td>0</td>\n",
       "      <td>120</td>\n",
       "      <td>Finding that special someone can be a real adv...</td>\n",
       "    </tr>\n",
       "    <tr>\n",
       "      <th>4</th>\n",
       "      <td>594767</td>\n",
       "      <td>Shazam! Fury of the Gods</td>\n",
       "      <td>2023-03-15</td>\n",
       "      <td>['Action', 'Comedy', 'Fantasy', 'Adventure']</td>\n",
       "      <td>English</td>\n",
       "      <td>6.8</td>\n",
       "      <td>1510</td>\n",
       "      <td>2702.593</td>\n",
       "      <td>Billy Batson and his foster siblings, who tran...</td>\n",
       "      <td>125000000</td>\n",
       "      <td>['New Line Cinema', 'The Safran Company', 'DC ...</td>\n",
       "      <td>133437105</td>\n",
       "      <td>130</td>\n",
       "      <td>Oh. My. Gods.</td>\n",
       "    </tr>\n",
       "  </tbody>\n",
       "</table>\n",
       "</div>"
      ],
      "text/plain": [
       "       id                              title release_date  \\\n",
       "0  758323                The Pope's Exorcist   2023-04-05   \n",
       "1  640146  Ant-Man and the Wasp: Quantumania   2023-02-15   \n",
       "2  502356        The Super Mario Bros. Movie   2023-04-05   \n",
       "3  868759                            Ghosted   2023-04-18   \n",
       "4  594767           Shazam! Fury of the Gods   2023-03-15   \n",
       "\n",
       "                                              genres original_language  \\\n",
       "0                  ['Horror', 'Mystery', 'Thriller']           English   \n",
       "1         ['Action', 'Adventure', 'Science Fiction']           English   \n",
       "2  ['Animation', 'Adventure', 'Family', 'Fantasy'...           English   \n",
       "3                    ['Action', 'Comedy', 'Romance']           English   \n",
       "4       ['Action', 'Comedy', 'Fantasy', 'Adventure']           English   \n",
       "\n",
       "   vote_average  vote_count  popularity  \\\n",
       "0           7.4         619    5089.969   \n",
       "1           6.6        2294    4665.438   \n",
       "2           7.5        1861    3935.550   \n",
       "3           7.2         652    2791.532   \n",
       "4           6.8        1510    2702.593   \n",
       "\n",
       "                                            overview     budget  \\\n",
       "0  Father Gabriele Amorth, Chief Exorcist of the ...   18000000   \n",
       "1  Super-Hero partners Scott Lang and Hope van Dy...  200000000   \n",
       "2  While working underground to fix a water main,...  100000000   \n",
       "3  Salt-of-the-earth Cole falls head over heels f...          0   \n",
       "4  Billy Batson and his foster siblings, who tran...  125000000   \n",
       "\n",
       "                                production_companies     revenue  runtime  \\\n",
       "0  ['Screen Gems', '2.0 Entertainment', 'Jesus & ...    65675816      103   \n",
       "1      ['Marvel Studios', 'Kevin Feige Productions']   464566092      125   \n",
       "2  ['Universal Pictures', 'Illumination', 'Ninten...  1121048165       92   \n",
       "3                ['Skydance Media', 'Apple Studios']           0      120   \n",
       "4  ['New Line Cinema', 'The Safran Company', 'DC ...   133437105      130   \n",
       "\n",
       "                                             tagline  \n",
       "0  Inspired by the actual files of Father Gabriel...  \n",
       "1            Witness the beginning of a new dynasty.  \n",
       "2                                                NaN  \n",
       "3  Finding that special someone can be a real adv...  \n",
       "4                                      Oh. My. Gods.  "
      ]
     },
     "execution_count": 2,
     "metadata": {},
     "output_type": "execute_result"
    }
   ],
   "source": [
    "df = pd.read_csv('popular_10000_movies_tmdb.csv')\n",
    "df.head()"
   ]
  },
  {
   "cell_type": "code",
   "execution_count": 3,
   "id": "c8a36a23",
   "metadata": {},
   "outputs": [
    {
     "data": {
      "text/plain": [
       "(10000, 14)"
      ]
     },
     "execution_count": 3,
     "metadata": {},
     "output_type": "execute_result"
    }
   ],
   "source": [
    "df.shape"
   ]
  },
  {
   "cell_type": "code",
   "execution_count": 4,
   "id": "a63d7124",
   "metadata": {},
   "outputs": [
    {
     "data": {
      "text/plain": [
       "['id',\n",
       " 'title',\n",
       " 'release_date',\n",
       " 'genres',\n",
       " 'original_language',\n",
       " 'vote_average',\n",
       " 'vote_count',\n",
       " 'popularity',\n",
       " 'overview',\n",
       " 'budget',\n",
       " 'production_companies',\n",
       " 'revenue',\n",
       " 'runtime',\n",
       " 'tagline']"
      ]
     },
     "execution_count": 4,
     "metadata": {},
     "output_type": "execute_result"
    }
   ],
   "source": [
    "df.columns.tolist()"
   ]
  },
  {
   "cell_type": "code",
   "execution_count": 5,
   "id": "86dea0f9",
   "metadata": {},
   "outputs": [
    {
     "data": {
      "text/plain": [
       "id                      10000\n",
       "title                    9650\n",
       "release_date             5877\n",
       "genres                   2323\n",
       "original_language          51\n",
       "vote_average               74\n",
       "vote_count               3447\n",
       "popularity               8290\n",
       "overview                 9916\n",
       "budget                    673\n",
       "production_companies     7990\n",
       "revenue                  5221\n",
       "runtime                   223\n",
       "tagline                  7189\n",
       "dtype: int64"
      ]
     },
     "execution_count": 5,
     "metadata": {},
     "output_type": "execute_result"
    }
   ],
   "source": [
    "df.nunique()"
   ]
  },
  {
   "cell_type": "code",
   "execution_count": 6,
   "id": "de8fb427",
   "metadata": {},
   "outputs": [
    {
     "data": {
      "text/plain": [
       "id                        int64\n",
       "title                    object\n",
       "release_date             object\n",
       "genres                   object\n",
       "original_language        object\n",
       "vote_average            float64\n",
       "vote_count                int64\n",
       "popularity              float64\n",
       "overview                 object\n",
       "budget                    int64\n",
       "production_companies     object\n",
       "revenue                   int64\n",
       "runtime                   int64\n",
       "tagline                  object\n",
       "dtype: object"
      ]
     },
     "execution_count": 6,
     "metadata": {},
     "output_type": "execute_result"
    }
   ],
   "source": [
    "df.dtypes"
   ]
  },
  {
   "cell_type": "code",
   "execution_count": 7,
   "id": "dccaf967",
   "metadata": {},
   "outputs": [
    {
     "data": {
      "text/plain": [
       "id                         0\n",
       "title                      0\n",
       "release_date              21\n",
       "genres                     0\n",
       "original_language          0\n",
       "vote_average               0\n",
       "vote_count                 0\n",
       "popularity                 0\n",
       "overview                  77\n",
       "budget                     0\n",
       "production_companies       0\n",
       "revenue                    0\n",
       "runtime                    0\n",
       "tagline                 2759\n",
       "dtype: int64"
      ]
     },
     "execution_count": 7,
     "metadata": {},
     "output_type": "execute_result"
    }
   ],
   "source": [
    "df.isnull().sum()"
   ]
  },
  {
   "cell_type": "code",
   "execution_count": 8,
   "id": "dbdecbad",
   "metadata": {},
   "outputs": [
    {
     "data": {
      "text/html": [
       "<div>\n",
       "<style scoped>\n",
       "    .dataframe tbody tr th:only-of-type {\n",
       "        vertical-align: middle;\n",
       "    }\n",
       "\n",
       "    .dataframe tbody tr th {\n",
       "        vertical-align: top;\n",
       "    }\n",
       "\n",
       "    .dataframe thead th {\n",
       "        text-align: right;\n",
       "    }\n",
       "</style>\n",
       "<table border=\"1\" class=\"dataframe\">\n",
       "  <thead>\n",
       "    <tr style=\"text-align: right;\">\n",
       "      <th></th>\n",
       "      <th>id</th>\n",
       "      <th>overview</th>\n",
       "      <th>tagline</th>\n",
       "    </tr>\n",
       "  </thead>\n",
       "  <tbody>\n",
       "    <tr>\n",
       "      <th>0</th>\n",
       "      <td>758323</td>\n",
       "      <td>Father Gabriele Amorth, Chief Exorcist of the ...</td>\n",
       "      <td>Inspired by the actual files of Father Gabriel...</td>\n",
       "    </tr>\n",
       "    <tr>\n",
       "      <th>1</th>\n",
       "      <td>640146</td>\n",
       "      <td>Super-Hero partners Scott Lang and Hope van Dy...</td>\n",
       "      <td>Witness the beginning of a new dynasty.</td>\n",
       "    </tr>\n",
       "    <tr>\n",
       "      <th>2</th>\n",
       "      <td>502356</td>\n",
       "      <td>While working underground to fix a water main,...</td>\n",
       "      <td>NaN</td>\n",
       "    </tr>\n",
       "    <tr>\n",
       "      <th>3</th>\n",
       "      <td>868759</td>\n",
       "      <td>Salt-of-the-earth Cole falls head over heels f...</td>\n",
       "      <td>Finding that special someone can be a real adv...</td>\n",
       "    </tr>\n",
       "    <tr>\n",
       "      <th>4</th>\n",
       "      <td>594767</td>\n",
       "      <td>Billy Batson and his foster siblings, who tran...</td>\n",
       "      <td>Oh. My. Gods.</td>\n",
       "    </tr>\n",
       "  </tbody>\n",
       "</table>\n",
       "</div>"
      ],
      "text/plain": [
       "       id                                           overview  \\\n",
       "0  758323  Father Gabriele Amorth, Chief Exorcist of the ...   \n",
       "1  640146  Super-Hero partners Scott Lang and Hope van Dy...   \n",
       "2  502356  While working underground to fix a water main,...   \n",
       "3  868759  Salt-of-the-earth Cole falls head over heels f...   \n",
       "4  594767  Billy Batson and his foster siblings, who tran...   \n",
       "\n",
       "                                             tagline  \n",
       "0  Inspired by the actual files of Father Gabriel...  \n",
       "1            Witness the beginning of a new dynasty.  \n",
       "2                                                NaN  \n",
       "3  Finding that special someone can be a real adv...  \n",
       "4                                      Oh. My. Gods.  "
      ]
     },
     "execution_count": 8,
     "metadata": {},
     "output_type": "execute_result"
    }
   ],
   "source": [
    "df[['id', 'overview', 'tagline', ]].head()"
   ]
  },
  {
   "cell_type": "code",
   "execution_count": 9,
   "id": "55b989f2",
   "metadata": {},
   "outputs": [],
   "source": [
    "df.drop(['id', 'overview', 'tagline'], axis=1, inplace=True)"
   ]
  },
  {
   "cell_type": "code",
   "execution_count": 10,
   "id": "39985286",
   "metadata": {},
   "outputs": [
    {
     "data": {
      "text/plain": [
       "(10000, 11)"
      ]
     },
     "execution_count": 10,
     "metadata": {},
     "output_type": "execute_result"
    }
   ],
   "source": [
    "df.shape"
   ]
  },
  {
   "cell_type": "code",
   "execution_count": 11,
   "id": "6ca0f75d",
   "metadata": {},
   "outputs": [
    {
     "data": {
      "text/plain": [
       "title                    0\n",
       "release_date            21\n",
       "genres                   0\n",
       "original_language        0\n",
       "vote_average             0\n",
       "vote_count               0\n",
       "popularity               0\n",
       "budget                   0\n",
       "production_companies     0\n",
       "revenue                  0\n",
       "runtime                  0\n",
       "dtype: int64"
      ]
     },
     "execution_count": 11,
     "metadata": {},
     "output_type": "execute_result"
    }
   ],
   "source": [
    "df.isnull().sum()"
   ]
  },
  {
   "cell_type": "code",
   "execution_count": 12,
   "id": "6207d236",
   "metadata": {},
   "outputs": [],
   "source": [
    "df.dropna(inplace=True)"
   ]
  },
  {
   "cell_type": "code",
   "execution_count": 13,
   "id": "d8566cb5",
   "metadata": {},
   "outputs": [
    {
     "data": {
      "text/plain": [
       "(9979, 11)"
      ]
     },
     "execution_count": 13,
     "metadata": {},
     "output_type": "execute_result"
    }
   ],
   "source": [
    "df.shape"
   ]
  },
  {
   "cell_type": "code",
   "execution_count": 14,
   "id": "d3af8675",
   "metadata": {},
   "outputs": [
    {
     "data": {
      "text/plain": [
       "title                   9630\n",
       "release_date            5877\n",
       "genres                  2322\n",
       "original_language         51\n",
       "production_companies    7980\n",
       "dtype: int64"
      ]
     },
     "execution_count": 14,
     "metadata": {},
     "output_type": "execute_result"
    }
   ],
   "source": [
    "df.select_dtypes('object').nunique()"
   ]
  },
  {
   "cell_type": "code",
   "execution_count": 15,
   "id": "88adbb56",
   "metadata": {},
   "outputs": [
    {
     "data": {
      "text/plain": [
       "array(['English', 'French', 'Dutch', 'Spanish', 'Korean', 'Japanese',\n",
       "       'Finnish', 'Ukrainian', 'Norwegian', 'Estonian', 'cn', 'Polish',\n",
       "       'Russian', 'German', 'Chinese', 'Italian', 'Basque', 'Thai',\n",
       "       'Turkish', 'Swedish', 'Icelandic', 'Tagalog', 'Bengali', 'Arabic',\n",
       "       'Tamil', 'Telugu', 'Romanian', 'Indonesian', 'Galician', 'Danish',\n",
       "       'Macedonian', 'Portuguese', 'Vietnamese', 'Catalan', 'Hindi',\n",
       "       'Persian', 'Hebrew', 'Serbian', 'Malayalam', 'Greek', 'Hungarian',\n",
       "       'Czech', 'Norwegian Bokmal', 'xx', 'Kannada', 'Irish', 'Khmer',\n",
       "       'sh', 'Dzongkha', 'Panjabi', 'Sundanese'], dtype=object)"
      ]
     },
     "execution_count": 15,
     "metadata": {},
     "output_type": "execute_result"
    }
   ],
   "source": [
    "df['original_language'].unique()"
   ]
  },
  {
   "cell_type": "code",
   "execution_count": 16,
   "id": "2606393a",
   "metadata": {},
   "outputs": [
    {
     "data": {
      "text/html": [
       "<div>\n",
       "<style scoped>\n",
       "    .dataframe tbody tr th:only-of-type {\n",
       "        vertical-align: middle;\n",
       "    }\n",
       "\n",
       "    .dataframe tbody tr th {\n",
       "        vertical-align: top;\n",
       "    }\n",
       "\n",
       "    .dataframe thead th {\n",
       "        text-align: right;\n",
       "    }\n",
       "</style>\n",
       "<table border=\"1\" class=\"dataframe\">\n",
       "  <thead>\n",
       "    <tr style=\"text-align: right;\">\n",
       "      <th></th>\n",
       "      <th>title</th>\n",
       "      <th>release_date</th>\n",
       "      <th>genres</th>\n",
       "      <th>original_language</th>\n",
       "      <th>vote_average</th>\n",
       "      <th>vote_count</th>\n",
       "      <th>popularity</th>\n",
       "      <th>budget</th>\n",
       "      <th>production_companies</th>\n",
       "      <th>revenue</th>\n",
       "      <th>runtime</th>\n",
       "    </tr>\n",
       "  </thead>\n",
       "  <tbody>\n",
       "    <tr>\n",
       "      <th>6340</th>\n",
       "      <td>Barbie</td>\n",
       "      <td>1977-01-01</td>\n",
       "      <td>[]</td>\n",
       "      <td>xx</td>\n",
       "      <td>2.0</td>\n",
       "      <td>1</td>\n",
       "      <td>9.890</td>\n",
       "      <td>0</td>\n",
       "      <td>[]</td>\n",
       "      <td>0</td>\n",
       "      <td>10</td>\n",
       "    </tr>\n",
       "    <tr>\n",
       "      <th>7837</th>\n",
       "      <td>Vertigo</td>\n",
       "      <td>2016-08-10</td>\n",
       "      <td>['Drama']</td>\n",
       "      <td>xx</td>\n",
       "      <td>2.0</td>\n",
       "      <td>1</td>\n",
       "      <td>10.093</td>\n",
       "      <td>200</td>\n",
       "      <td>[]</td>\n",
       "      <td>0</td>\n",
       "      <td>6</td>\n",
       "    </tr>\n",
       "  </tbody>\n",
       "</table>\n",
       "</div>"
      ],
      "text/plain": [
       "        title release_date     genres original_language  vote_average  \\\n",
       "6340   Barbie   1977-01-01         []                xx           2.0   \n",
       "7837  Vertigo   2016-08-10  ['Drama']                xx           2.0   \n",
       "\n",
       "      vote_count  popularity  budget production_companies  revenue  runtime  \n",
       "6340           1       9.890       0                   []        0       10  \n",
       "7837           1      10.093     200                   []        0        6  "
      ]
     },
     "execution_count": 16,
     "metadata": {},
     "output_type": "execute_result"
    }
   ],
   "source": [
    "df[df['original_language'] == 'xx']"
   ]
  },
  {
   "cell_type": "code",
   "execution_count": 17,
   "id": "1579ed07",
   "metadata": {},
   "outputs": [],
   "source": [
    "df = df[~(df['original_language'] == 'xx')]"
   ]
  },
  {
   "cell_type": "code",
   "execution_count": 18,
   "id": "d95de5f5",
   "metadata": {},
   "outputs": [
    {
     "data": {
      "text/html": [
       "<div>\n",
       "<style scoped>\n",
       "    .dataframe tbody tr th:only-of-type {\n",
       "        vertical-align: middle;\n",
       "    }\n",
       "\n",
       "    .dataframe tbody tr th {\n",
       "        vertical-align: top;\n",
       "    }\n",
       "\n",
       "    .dataframe thead th {\n",
       "        text-align: right;\n",
       "    }\n",
       "</style>\n",
       "<table border=\"1\" class=\"dataframe\">\n",
       "  <thead>\n",
       "    <tr style=\"text-align: right;\">\n",
       "      <th></th>\n",
       "      <th>title</th>\n",
       "      <th>release_date</th>\n",
       "      <th>genres</th>\n",
       "      <th>original_language</th>\n",
       "      <th>vote_average</th>\n",
       "      <th>vote_count</th>\n",
       "      <th>popularity</th>\n",
       "      <th>budget</th>\n",
       "      <th>production_companies</th>\n",
       "      <th>revenue</th>\n",
       "      <th>runtime</th>\n",
       "    </tr>\n",
       "  </thead>\n",
       "  <tbody>\n",
       "  </tbody>\n",
       "</table>\n",
       "</div>"
      ],
      "text/plain": [
       "Empty DataFrame\n",
       "Columns: [title, release_date, genres, original_language, vote_average, vote_count, popularity, budget, production_companies, revenue, runtime]\n",
       "Index: []"
      ]
     },
     "execution_count": 18,
     "metadata": {},
     "output_type": "execute_result"
    }
   ],
   "source": [
    "df[df['original_language'] == 'xx']"
   ]
  },
  {
   "cell_type": "code",
   "execution_count": 19,
   "id": "6c93bdfe",
   "metadata": {},
   "outputs": [
    {
     "data": {
      "text/plain": [
       "(9977, 11)"
      ]
     },
     "execution_count": 19,
     "metadata": {},
     "output_type": "execute_result"
    }
   ],
   "source": [
    "df.shape"
   ]
  },
  {
   "cell_type": "code",
   "execution_count": 20,
   "id": "87eaba06",
   "metadata": {},
   "outputs": [
    {
     "data": {
      "text/html": [
       "<div>\n",
       "<style scoped>\n",
       "    .dataframe tbody tr th:only-of-type {\n",
       "        vertical-align: middle;\n",
       "    }\n",
       "\n",
       "    .dataframe tbody tr th {\n",
       "        vertical-align: top;\n",
       "    }\n",
       "\n",
       "    .dataframe thead th {\n",
       "        text-align: right;\n",
       "    }\n",
       "</style>\n",
       "<table border=\"1\" class=\"dataframe\">\n",
       "  <thead>\n",
       "    <tr style=\"text-align: right;\">\n",
       "      <th></th>\n",
       "      <th>title</th>\n",
       "      <th>release_date</th>\n",
       "      <th>genres</th>\n",
       "      <th>original_language</th>\n",
       "      <th>vote_average</th>\n",
       "      <th>vote_count</th>\n",
       "      <th>popularity</th>\n",
       "      <th>budget</th>\n",
       "      <th>production_companies</th>\n",
       "      <th>revenue</th>\n",
       "      <th>runtime</th>\n",
       "    </tr>\n",
       "  </thead>\n",
       "  <tbody>\n",
       "    <tr>\n",
       "      <th>9096</th>\n",
       "      <td>I Miss Sonia Henie</td>\n",
       "      <td>1971-01-20</td>\n",
       "      <td>['Comedy', 'Drama']</td>\n",
       "      <td>sh</td>\n",
       "      <td>5.5</td>\n",
       "      <td>15</td>\n",
       "      <td>13.323</td>\n",
       "      <td>0</td>\n",
       "      <td>['Neoplanta Film']</td>\n",
       "      <td>0</td>\n",
       "      <td>16</td>\n",
       "    </tr>\n",
       "  </tbody>\n",
       "</table>\n",
       "</div>"
      ],
      "text/plain": [
       "                   title release_date               genres original_language  \\\n",
       "9096  I Miss Sonia Henie   1971-01-20  ['Comedy', 'Drama']                sh   \n",
       "\n",
       "      vote_average  vote_count  popularity  budget production_companies  \\\n",
       "9096           5.5          15      13.323       0   ['Neoplanta Film']   \n",
       "\n",
       "      revenue  runtime  \n",
       "9096        0       16  "
      ]
     },
     "execution_count": 20,
     "metadata": {},
     "output_type": "execute_result"
    }
   ],
   "source": [
    "df[df['original_language'] == 'sh']"
   ]
  },
  {
   "cell_type": "code",
   "execution_count": 21,
   "id": "bea32eba",
   "metadata": {},
   "outputs": [],
   "source": [
    "df = df[~(df['original_language'] == 'sh')]"
   ]
  },
  {
   "cell_type": "code",
   "execution_count": 22,
   "id": "8641c7b3",
   "metadata": {},
   "outputs": [
    {
     "data": {
      "text/html": [
       "<div>\n",
       "<style scoped>\n",
       "    .dataframe tbody tr th:only-of-type {\n",
       "        vertical-align: middle;\n",
       "    }\n",
       "\n",
       "    .dataframe tbody tr th {\n",
       "        vertical-align: top;\n",
       "    }\n",
       "\n",
       "    .dataframe thead th {\n",
       "        text-align: right;\n",
       "    }\n",
       "</style>\n",
       "<table border=\"1\" class=\"dataframe\">\n",
       "  <thead>\n",
       "    <tr style=\"text-align: right;\">\n",
       "      <th></th>\n",
       "      <th>title</th>\n",
       "      <th>release_date</th>\n",
       "      <th>genres</th>\n",
       "      <th>original_language</th>\n",
       "      <th>vote_average</th>\n",
       "      <th>vote_count</th>\n",
       "      <th>popularity</th>\n",
       "      <th>budget</th>\n",
       "      <th>production_companies</th>\n",
       "      <th>revenue</th>\n",
       "      <th>runtime</th>\n",
       "    </tr>\n",
       "  </thead>\n",
       "  <tbody>\n",
       "  </tbody>\n",
       "</table>\n",
       "</div>"
      ],
      "text/plain": [
       "Empty DataFrame\n",
       "Columns: [title, release_date, genres, original_language, vote_average, vote_count, popularity, budget, production_companies, revenue, runtime]\n",
       "Index: []"
      ]
     },
     "execution_count": 22,
     "metadata": {},
     "output_type": "execute_result"
    }
   ],
   "source": [
    "df[df['original_language'] == 'sh']"
   ]
  },
  {
   "cell_type": "code",
   "execution_count": 23,
   "id": "9c54ae39",
   "metadata": {},
   "outputs": [
    {
     "data": {
      "text/plain": [
       "(9976, 11)"
      ]
     },
     "execution_count": 23,
     "metadata": {},
     "output_type": "execute_result"
    }
   ],
   "source": [
    "df.shape"
   ]
  },
  {
   "cell_type": "code",
   "execution_count": 24,
   "id": "02913ed2",
   "metadata": {},
   "outputs": [
    {
     "data": {
      "text/plain": [
       "0"
      ]
     },
     "execution_count": 24,
     "metadata": {},
     "output_type": "execute_result"
    }
   ],
   "source": [
    "df.duplicated().sum()"
   ]
  },
  {
   "cell_type": "code",
   "execution_count": 25,
   "id": "6cf929c1",
   "metadata": {},
   "outputs": [
    {
     "data": {
      "text/plain": [
       "title                   9629\n",
       "release_date            5875\n",
       "genres                  2322\n",
       "original_language         49\n",
       "production_companies    7979\n",
       "dtype: int64"
      ]
     },
     "execution_count": 25,
     "metadata": {},
     "output_type": "execute_result"
    }
   ],
   "source": [
    "df.select_dtypes('object').nunique()"
   ]
  },
  {
   "cell_type": "code",
   "execution_count": 26,
   "id": "7049502b",
   "metadata": {},
   "outputs": [
    {
     "data": {
      "text/plain": [
       "347"
      ]
     },
     "execution_count": 26,
     "metadata": {},
     "output_type": "execute_result"
    }
   ],
   "source": [
    "df['title'].duplicated().sum()"
   ]
  },
  {
   "cell_type": "code",
   "execution_count": 27,
   "id": "8bdc1240",
   "metadata": {},
   "outputs": [
    {
     "data": {
      "text/html": [
       "<div>\n",
       "<style scoped>\n",
       "    .dataframe tbody tr th:only-of-type {\n",
       "        vertical-align: middle;\n",
       "    }\n",
       "\n",
       "    .dataframe tbody tr th {\n",
       "        vertical-align: top;\n",
       "    }\n",
       "\n",
       "    .dataframe thead th {\n",
       "        text-align: right;\n",
       "    }\n",
       "</style>\n",
       "<table border=\"1\" class=\"dataframe\">\n",
       "  <thead>\n",
       "    <tr style=\"text-align: right;\">\n",
       "      <th></th>\n",
       "      <th>title</th>\n",
       "      <th>release_date</th>\n",
       "      <th>genres</th>\n",
       "      <th>original_language</th>\n",
       "      <th>vote_average</th>\n",
       "      <th>vote_count</th>\n",
       "      <th>popularity</th>\n",
       "      <th>budget</th>\n",
       "      <th>production_companies</th>\n",
       "      <th>revenue</th>\n",
       "      <th>runtime</th>\n",
       "    </tr>\n",
       "  </thead>\n",
       "  <tbody>\n",
       "    <tr>\n",
       "      <th>9364</th>\n",
       "      <td>3:10 to Yuma</td>\n",
       "      <td>1957-08-07</td>\n",
       "      <td>['Western', 'Drama', 'Thriller']</td>\n",
       "      <td>English</td>\n",
       "      <td>7.2</td>\n",
       "      <td>291</td>\n",
       "      <td>10.993</td>\n",
       "      <td>0</td>\n",
       "      <td>['Columbia Pictures']</td>\n",
       "      <td>0</td>\n",
       "      <td>92</td>\n",
       "    </tr>\n",
       "    <tr>\n",
       "      <th>5116</th>\n",
       "      <td>3:10 to Yuma</td>\n",
       "      <td>2007-09-06</td>\n",
       "      <td>['Western']</td>\n",
       "      <td>English</td>\n",
       "      <td>7.2</td>\n",
       "      <td>3131</td>\n",
       "      <td>18.967</td>\n",
       "      <td>55000000</td>\n",
       "      <td>['Lionsgate', 'Tree Line Films', 'Relativity M...</td>\n",
       "      <td>70016220</td>\n",
       "      <td>122</td>\n",
       "    </tr>\n",
       "    <tr>\n",
       "      <th>2684</th>\n",
       "      <td>A Nightmare on Elm Street</td>\n",
       "      <td>2010-04-30</td>\n",
       "      <td>['Horror', 'Mystery', 'Thriller']</td>\n",
       "      <td>English</td>\n",
       "      <td>5.5</td>\n",
       "      <td>2415</td>\n",
       "      <td>25.679</td>\n",
       "      <td>35000000</td>\n",
       "      <td>['Platinum Dunes', 'New Line Cinema', 'Warner ...</td>\n",
       "      <td>115664037</td>\n",
       "      <td>95</td>\n",
       "    </tr>\n",
       "    <tr>\n",
       "      <th>1637</th>\n",
       "      <td>A Nightmare on Elm Street</td>\n",
       "      <td>1984-11-09</td>\n",
       "      <td>['Horror']</td>\n",
       "      <td>English</td>\n",
       "      <td>7.3</td>\n",
       "      <td>4430</td>\n",
       "      <td>36.600</td>\n",
       "      <td>1100000</td>\n",
       "      <td>['New Line Cinema', 'Smart Egg Pictures', 'Med...</td>\n",
       "      <td>57000000</td>\n",
       "      <td>91</td>\n",
       "    </tr>\n",
       "    <tr>\n",
       "      <th>7330</th>\n",
       "      <td>A Tale of Two Sisters</td>\n",
       "      <td>2023-05-06</td>\n",
       "      <td>[]</td>\n",
       "      <td>English</td>\n",
       "      <td>0.0</td>\n",
       "      <td>0</td>\n",
       "      <td>10.538</td>\n",
       "      <td>0</td>\n",
       "      <td>[]</td>\n",
       "      <td>0</td>\n",
       "      <td>8</td>\n",
       "    </tr>\n",
       "    <tr>\n",
       "      <th>...</th>\n",
       "      <td>...</td>\n",
       "      <td>...</td>\n",
       "      <td>...</td>\n",
       "      <td>...</td>\n",
       "      <td>...</td>\n",
       "      <td>...</td>\n",
       "      <td>...</td>\n",
       "      <td>...</td>\n",
       "      <td>...</td>\n",
       "      <td>...</td>\n",
       "      <td>...</td>\n",
       "    </tr>\n",
       "    <tr>\n",
       "      <th>902</th>\n",
       "      <td>Wonder Woman</td>\n",
       "      <td>2017-05-30</td>\n",
       "      <td>['Action', 'Adventure', 'Fantasy']</td>\n",
       "      <td>English</td>\n",
       "      <td>7.2</td>\n",
       "      <td>18595</td>\n",
       "      <td>54.481</td>\n",
       "      <td>149000000</td>\n",
       "      <td>['Atlas Entertainment', 'Cruel &amp; Unusual Films...</td>\n",
       "      <td>822854286</td>\n",
       "      <td>141</td>\n",
       "    </tr>\n",
       "    <tr>\n",
       "      <th>1133</th>\n",
       "      <td>Wrong Turn</td>\n",
       "      <td>2003-05-30</td>\n",
       "      <td>['Horror', 'Thriller']</td>\n",
       "      <td>English</td>\n",
       "      <td>6.3</td>\n",
       "      <td>2307</td>\n",
       "      <td>50.411</td>\n",
       "      <td>12600000</td>\n",
       "      <td>['DCP Wrong Turn Productions', 'Summit Enterta...</td>\n",
       "      <td>28650575</td>\n",
       "      <td>84</td>\n",
       "    </tr>\n",
       "    <tr>\n",
       "      <th>774</th>\n",
       "      <td>Wrong Turn</td>\n",
       "      <td>2021-01-26</td>\n",
       "      <td>['Horror', 'Thriller', 'Drama']</td>\n",
       "      <td>English</td>\n",
       "      <td>6.0</td>\n",
       "      <td>902</td>\n",
       "      <td>59.587</td>\n",
       "      <td>0</td>\n",
       "      <td>['Constantin Film', 'The H Collective', 'Tea S...</td>\n",
       "      <td>3777969</td>\n",
       "      <td>110</td>\n",
       "    </tr>\n",
       "    <tr>\n",
       "      <th>202</th>\n",
       "      <td>X</td>\n",
       "      <td>2022-03-17</td>\n",
       "      <td>['Horror', 'Mystery', 'Thriller']</td>\n",
       "      <td>English</td>\n",
       "      <td>6.8</td>\n",
       "      <td>1918</td>\n",
       "      <td>129.629</td>\n",
       "      <td>10000000</td>\n",
       "      <td>['A24', 'Little Lamb Productions']</td>\n",
       "      <td>14779858</td>\n",
       "      <td>106</td>\n",
       "    </tr>\n",
       "    <tr>\n",
       "      <th>5515</th>\n",
       "      <td>X</td>\n",
       "      <td>2011-11-23</td>\n",
       "      <td>['Action', 'Thriller', 'Romance']</td>\n",
       "      <td>English</td>\n",
       "      <td>6.5</td>\n",
       "      <td>221</td>\n",
       "      <td>20.592</td>\n",
       "      <td>0</td>\n",
       "      <td>['Rough Beast', 'Circe Films']</td>\n",
       "      <td>0</td>\n",
       "      <td>90</td>\n",
       "    </tr>\n",
       "  </tbody>\n",
       "</table>\n",
       "<p>661 rows × 11 columns</p>\n",
       "</div>"
      ],
      "text/plain": [
       "                          title release_date  \\\n",
       "9364               3:10 to Yuma   1957-08-07   \n",
       "5116               3:10 to Yuma   2007-09-06   \n",
       "2684  A Nightmare on Elm Street   2010-04-30   \n",
       "1637  A Nightmare on Elm Street   1984-11-09   \n",
       "7330      A Tale of Two Sisters   2023-05-06   \n",
       "...                         ...          ...   \n",
       "902                Wonder Woman   2017-05-30   \n",
       "1133                 Wrong Turn   2003-05-30   \n",
       "774                  Wrong Turn   2021-01-26   \n",
       "202                           X   2022-03-17   \n",
       "5515                          X   2011-11-23   \n",
       "\n",
       "                                  genres original_language  vote_average  \\\n",
       "9364    ['Western', 'Drama', 'Thriller']           English           7.2   \n",
       "5116                         ['Western']           English           7.2   \n",
       "2684   ['Horror', 'Mystery', 'Thriller']           English           5.5   \n",
       "1637                          ['Horror']           English           7.3   \n",
       "7330                                  []           English           0.0   \n",
       "...                                  ...               ...           ...   \n",
       "902   ['Action', 'Adventure', 'Fantasy']           English           7.2   \n",
       "1133              ['Horror', 'Thriller']           English           6.3   \n",
       "774      ['Horror', 'Thriller', 'Drama']           English           6.0   \n",
       "202    ['Horror', 'Mystery', 'Thriller']           English           6.8   \n",
       "5515   ['Action', 'Thriller', 'Romance']           English           6.5   \n",
       "\n",
       "      vote_count  popularity     budget  \\\n",
       "9364         291      10.993          0   \n",
       "5116        3131      18.967   55000000   \n",
       "2684        2415      25.679   35000000   \n",
       "1637        4430      36.600    1100000   \n",
       "7330           0      10.538          0   \n",
       "...          ...         ...        ...   \n",
       "902        18595      54.481  149000000   \n",
       "1133        2307      50.411   12600000   \n",
       "774          902      59.587          0   \n",
       "202         1918     129.629   10000000   \n",
       "5515         221      20.592          0   \n",
       "\n",
       "                                   production_companies    revenue  runtime  \n",
       "9364                              ['Columbia Pictures']          0       92  \n",
       "5116  ['Lionsgate', 'Tree Line Films', 'Relativity M...   70016220      122  \n",
       "2684  ['Platinum Dunes', 'New Line Cinema', 'Warner ...  115664037       95  \n",
       "1637  ['New Line Cinema', 'Smart Egg Pictures', 'Med...   57000000       91  \n",
       "7330                                                 []          0        8  \n",
       "...                                                 ...        ...      ...  \n",
       "902   ['Atlas Entertainment', 'Cruel & Unusual Films...  822854286      141  \n",
       "1133  ['DCP Wrong Turn Productions', 'Summit Enterta...   28650575       84  \n",
       "774   ['Constantin Film', 'The H Collective', 'Tea S...    3777969      110  \n",
       "202                  ['A24', 'Little Lamb Productions']   14779858      106  \n",
       "5515                     ['Rough Beast', 'Circe Films']          0       90  \n",
       "\n",
       "[661 rows x 11 columns]"
      ]
     },
     "execution_count": 27,
     "metadata": {},
     "output_type": "execute_result"
    }
   ],
   "source": [
    "df[df['title'].isin(df['title'][df['title'].duplicated()])].sort_values('title')"
   ]
  },
  {
   "cell_type": "code",
   "execution_count": 28,
   "id": "30817493",
   "metadata": {},
   "outputs": [
    {
     "data": {
      "text/plain": [
       "dtype('O')"
      ]
     },
     "execution_count": 28,
     "metadata": {},
     "output_type": "execute_result"
    }
   ],
   "source": [
    "df['genres'].dtype"
   ]
  },
  {
   "cell_type": "code",
   "execution_count": 29,
   "id": "b50b999a",
   "metadata": {},
   "outputs": [
    {
     "data": {
      "text/html": [
       "<div>\n",
       "<style scoped>\n",
       "    .dataframe tbody tr th:only-of-type {\n",
       "        vertical-align: middle;\n",
       "    }\n",
       "\n",
       "    .dataframe tbody tr th {\n",
       "        vertical-align: top;\n",
       "    }\n",
       "\n",
       "    .dataframe thead th {\n",
       "        text-align: right;\n",
       "    }\n",
       "</style>\n",
       "<table border=\"1\" class=\"dataframe\">\n",
       "  <thead>\n",
       "    <tr style=\"text-align: right;\">\n",
       "      <th></th>\n",
       "      <th>title</th>\n",
       "      <th>genres</th>\n",
       "    </tr>\n",
       "  </thead>\n",
       "  <tbody>\n",
       "    <tr>\n",
       "      <th>610</th>\n",
       "      <td>Snake Beauty</td>\n",
       "      <td>[]</td>\n",
       "    </tr>\n",
       "    <tr>\n",
       "      <th>684</th>\n",
       "      <td>Za gyakutai: Nyotai ikedori-hen</td>\n",
       "      <td>[]</td>\n",
       "    </tr>\n",
       "    <tr>\n",
       "      <th>816</th>\n",
       "      <td>Gabriel's Inferno: Part IV</td>\n",
       "      <td>[]</td>\n",
       "    </tr>\n",
       "    <tr>\n",
       "      <th>943</th>\n",
       "      <td>Yu Pui Tsuen</td>\n",
       "      <td>[]</td>\n",
       "    </tr>\n",
       "    <tr>\n",
       "      <th>1178</th>\n",
       "      <td>Oppressive Torture</td>\n",
       "      <td>[]</td>\n",
       "    </tr>\n",
       "    <tr>\n",
       "      <th>...</th>\n",
       "      <td>...</td>\n",
       "      <td>...</td>\n",
       "    </tr>\n",
       "    <tr>\n",
       "      <th>8809</th>\n",
       "      <td>The Legend of Zhao Yun</td>\n",
       "      <td>[]</td>\n",
       "    </tr>\n",
       "    <tr>\n",
       "      <th>8982</th>\n",
       "      <td>Russian Nymphet: Temptation</td>\n",
       "      <td>[]</td>\n",
       "    </tr>\n",
       "    <tr>\n",
       "      <th>9484</th>\n",
       "      <td>La Boheme: Breathe Umphefumlo</td>\n",
       "      <td>[]</td>\n",
       "    </tr>\n",
       "    <tr>\n",
       "      <th>9775</th>\n",
       "      <td>野浪花</td>\n",
       "      <td>[]</td>\n",
       "    </tr>\n",
       "    <tr>\n",
       "      <th>9991</th>\n",
       "      <td>The Witcher Season One Recap: From the Beginning</td>\n",
       "      <td>[]</td>\n",
       "    </tr>\n",
       "  </tbody>\n",
       "</table>\n",
       "<p>61 rows × 2 columns</p>\n",
       "</div>"
      ],
      "text/plain": [
       "                                                 title genres\n",
       "610                                       Snake Beauty     []\n",
       "684                    Za gyakutai: Nyotai ikedori-hen     []\n",
       "816                         Gabriel's Inferno: Part IV     []\n",
       "943                                       Yu Pui Tsuen     []\n",
       "1178                                Oppressive Torture     []\n",
       "...                                                ...    ...\n",
       "8809                            The Legend of Zhao Yun     []\n",
       "8982                       Russian Nymphet: Temptation     []\n",
       "9484                     La Boheme: Breathe Umphefumlo     []\n",
       "9775                                               野浪花     []\n",
       "9991  The Witcher Season One Recap: From the Beginning     []\n",
       "\n",
       "[61 rows x 2 columns]"
      ]
     },
     "execution_count": 29,
     "metadata": {},
     "output_type": "execute_result"
    }
   ],
   "source": [
    "df[['title', 'genres']][df['genres'].str.len() == 2]"
   ]
  },
  {
   "cell_type": "code",
   "execution_count": 30,
   "id": "0f019c08",
   "metadata": {},
   "outputs": [],
   "source": [
    "df = df[~(df['genres'].str.len() == 2)]"
   ]
  },
  {
   "cell_type": "code",
   "execution_count": 31,
   "id": "a89f4b89",
   "metadata": {},
   "outputs": [
    {
     "data": {
      "text/plain": [
       "(9915, 11)"
      ]
     },
     "execution_count": 31,
     "metadata": {},
     "output_type": "execute_result"
    }
   ],
   "source": [
    "df.shape"
   ]
  },
  {
   "cell_type": "code",
   "execution_count": 32,
   "id": "aeb0de67",
   "metadata": {},
   "outputs": [
    {
     "data": {
      "text/html": [
       "<div>\n",
       "<style scoped>\n",
       "    .dataframe tbody tr th:only-of-type {\n",
       "        vertical-align: middle;\n",
       "    }\n",
       "\n",
       "    .dataframe tbody tr th {\n",
       "        vertical-align: top;\n",
       "    }\n",
       "\n",
       "    .dataframe thead th {\n",
       "        text-align: right;\n",
       "    }\n",
       "</style>\n",
       "<table border=\"1\" class=\"dataframe\">\n",
       "  <thead>\n",
       "    <tr style=\"text-align: right;\">\n",
       "      <th></th>\n",
       "      <th>title</th>\n",
       "      <th>production_companies</th>\n",
       "    </tr>\n",
       "  </thead>\n",
       "  <tbody>\n",
       "    <tr>\n",
       "      <th>21</th>\n",
       "      <td>Adrenaline</td>\n",
       "      <td>[]</td>\n",
       "    </tr>\n",
       "    <tr>\n",
       "      <th>27</th>\n",
       "      <td>The Elderly</td>\n",
       "      <td>[]</td>\n",
       "    </tr>\n",
       "    <tr>\n",
       "      <th>28</th>\n",
       "      <td>Ripper's Revenge</td>\n",
       "      <td>[]</td>\n",
       "    </tr>\n",
       "    <tr>\n",
       "      <th>36</th>\n",
       "      <td>Gangs of Lagos</td>\n",
       "      <td>[]</td>\n",
       "    </tr>\n",
       "    <tr>\n",
       "      <th>46</th>\n",
       "      <td>Prizefighter: The Life of Jem Belcher</td>\n",
       "      <td>[]</td>\n",
       "    </tr>\n",
       "    <tr>\n",
       "      <th>...</th>\n",
       "      <td>...</td>\n",
       "      <td>...</td>\n",
       "    </tr>\n",
       "    <tr>\n",
       "      <th>9905</th>\n",
       "      <td>My Mother's Lovers</td>\n",
       "      <td>[]</td>\n",
       "    </tr>\n",
       "    <tr>\n",
       "      <th>9924</th>\n",
       "      <td>My Brother's Wife 2</td>\n",
       "      <td>[]</td>\n",
       "    </tr>\n",
       "    <tr>\n",
       "      <th>9930</th>\n",
       "      <td>Zombie Fight Club</td>\n",
       "      <td>[]</td>\n",
       "    </tr>\n",
       "    <tr>\n",
       "      <th>9975</th>\n",
       "      <td>Heart Shot</td>\n",
       "      <td>[]</td>\n",
       "    </tr>\n",
       "    <tr>\n",
       "      <th>9998</th>\n",
       "      <td>My Sister-in-law's Job</td>\n",
       "      <td>[]</td>\n",
       "    </tr>\n",
       "  </tbody>\n",
       "</table>\n",
       "<p>519 rows × 2 columns</p>\n",
       "</div>"
      ],
      "text/plain": [
       "                                      title production_companies\n",
       "21                               Adrenaline                   []\n",
       "27                              The Elderly                   []\n",
       "28                         Ripper's Revenge                   []\n",
       "36                           Gangs of Lagos                   []\n",
       "46    Prizefighter: The Life of Jem Belcher                   []\n",
       "...                                     ...                  ...\n",
       "9905                     My Mother's Lovers                   []\n",
       "9924                    My Brother's Wife 2                   []\n",
       "9930                      Zombie Fight Club                   []\n",
       "9975                             Heart Shot                   []\n",
       "9998                 My Sister-in-law's Job                   []\n",
       "\n",
       "[519 rows x 2 columns]"
      ]
     },
     "execution_count": 32,
     "metadata": {},
     "output_type": "execute_result"
    }
   ],
   "source": [
    "df[['title', 'production_companies']][df['production_companies'].str.len() == 2]"
   ]
  },
  {
   "cell_type": "code",
   "execution_count": 33,
   "id": "14fa3326",
   "metadata": {},
   "outputs": [],
   "source": [
    "df = df[~(df['production_companies'].str.len() == 2)]"
   ]
  },
  {
   "cell_type": "code",
   "execution_count": 34,
   "id": "e4f5eb23",
   "metadata": {},
   "outputs": [
    {
     "data": {
      "text/plain": [
       "(9396, 11)"
      ]
     },
     "execution_count": 34,
     "metadata": {},
     "output_type": "execute_result"
    }
   ],
   "source": [
    "df.shape"
   ]
  },
  {
   "cell_type": "code",
   "execution_count": 35,
   "id": "b73a4a51",
   "metadata": {},
   "outputs": [
    {
     "data": {
      "text/plain": [
       "title                      0\n",
       "release_date               0\n",
       "genres                     0\n",
       "original_language          0\n",
       "vote_average             130\n",
       "vote_count               129\n",
       "popularity                 0\n",
       "budget                  4286\n",
       "production_companies       0\n",
       "revenue                 3986\n",
       "runtime                  106\n",
       "dtype: int64"
      ]
     },
     "execution_count": 35,
     "metadata": {},
     "output_type": "execute_result"
    }
   ],
   "source": [
    "(df == 0).sum()"
   ]
  },
  {
   "cell_type": "code",
   "execution_count": 36,
   "id": "673fe791",
   "metadata": {},
   "outputs": [
    {
     "data": {
      "text/html": [
       "<div>\n",
       "<style scoped>\n",
       "    .dataframe tbody tr th:only-of-type {\n",
       "        vertical-align: middle;\n",
       "    }\n",
       "\n",
       "    .dataframe tbody tr th {\n",
       "        vertical-align: top;\n",
       "    }\n",
       "\n",
       "    .dataframe thead th {\n",
       "        text-align: right;\n",
       "    }\n",
       "</style>\n",
       "<table border=\"1\" class=\"dataframe\">\n",
       "  <thead>\n",
       "    <tr style=\"text-align: right;\">\n",
       "      <th></th>\n",
       "      <th>title</th>\n",
       "      <th>release_date</th>\n",
       "      <th>genres</th>\n",
       "      <th>original_language</th>\n",
       "      <th>vote_average</th>\n",
       "      <th>vote_count</th>\n",
       "      <th>popularity</th>\n",
       "      <th>budget</th>\n",
       "      <th>production_companies</th>\n",
       "      <th>revenue</th>\n",
       "      <th>runtime</th>\n",
       "    </tr>\n",
       "  </thead>\n",
       "  <tbody>\n",
       "    <tr>\n",
       "      <th>23</th>\n",
       "      <td>Fast X</td>\n",
       "      <td>2023-05-17</td>\n",
       "      <td>['Action', 'Crime', 'Thriller']</td>\n",
       "      <td>English</td>\n",
       "      <td>0.0</td>\n",
       "      <td>0</td>\n",
       "      <td>732.647</td>\n",
       "      <td>340000000</td>\n",
       "      <td>['Universal Pictures', 'Original Film', 'One R...</td>\n",
       "      <td>0</td>\n",
       "      <td>142</td>\n",
       "    </tr>\n",
       "    <tr>\n",
       "      <th>100</th>\n",
       "      <td>Kiss, Kiss!</td>\n",
       "      <td>2023-04-26</td>\n",
       "      <td>['Romance', 'Comedy']</td>\n",
       "      <td>Polish</td>\n",
       "      <td>6.9</td>\n",
       "      <td>15</td>\n",
       "      <td>361.900</td>\n",
       "      <td>0</td>\n",
       "      <td>['Lightcraft']</td>\n",
       "      <td>0</td>\n",
       "      <td>0</td>\n",
       "    </tr>\n",
       "    <tr>\n",
       "      <th>101</th>\n",
       "      <td>The Little Mermaid</td>\n",
       "      <td>2023-05-18</td>\n",
       "      <td>['Adventure', 'Family', 'Fantasy', 'Romance']</td>\n",
       "      <td>English</td>\n",
       "      <td>0.0</td>\n",
       "      <td>0</td>\n",
       "      <td>220.944</td>\n",
       "      <td>0</td>\n",
       "      <td>['Walt Disney Pictures', 'Lucamar Productions'...</td>\n",
       "      <td>0</td>\n",
       "      <td>135</td>\n",
       "    </tr>\n",
       "    <tr>\n",
       "      <th>128</th>\n",
       "      <td>Transformers: Rise of the Beasts</td>\n",
       "      <td>2023-06-07</td>\n",
       "      <td>['Action', 'Adventure', 'Science Fiction']</td>\n",
       "      <td>English</td>\n",
       "      <td>0.0</td>\n",
       "      <td>0</td>\n",
       "      <td>222.430</td>\n",
       "      <td>200000000</td>\n",
       "      <td>['Skydance Media', 'Paramount', 'di Bonaventur...</td>\n",
       "      <td>0</td>\n",
       "      <td>0</td>\n",
       "    </tr>\n",
       "    <tr>\n",
       "      <th>184</th>\n",
       "      <td>The Flash</td>\n",
       "      <td>2023-06-14</td>\n",
       "      <td>['Science Fiction', 'Action', 'Adventure']</td>\n",
       "      <td>English</td>\n",
       "      <td>0.0</td>\n",
       "      <td>0</td>\n",
       "      <td>123.659</td>\n",
       "      <td>220000000</td>\n",
       "      <td>['Warner Bros. Pictures', 'Double Dream', 'The...</td>\n",
       "      <td>0</td>\n",
       "      <td>0</td>\n",
       "    </tr>\n",
       "    <tr>\n",
       "      <th>...</th>\n",
       "      <td>...</td>\n",
       "      <td>...</td>\n",
       "      <td>...</td>\n",
       "      <td>...</td>\n",
       "      <td>...</td>\n",
       "      <td>...</td>\n",
       "      <td>...</td>\n",
       "      <td>...</td>\n",
       "      <td>...</td>\n",
       "      <td>...</td>\n",
       "      <td>...</td>\n",
       "    </tr>\n",
       "    <tr>\n",
       "      <th>9847</th>\n",
       "      <td>Divaldo: O Mensageiro da Paz</td>\n",
       "      <td>2019-09-12</td>\n",
       "      <td>['Drama']</td>\n",
       "      <td>Portuguese</td>\n",
       "      <td>8.3</td>\n",
       "      <td>59</td>\n",
       "      <td>16.640</td>\n",
       "      <td>0</td>\n",
       "      <td>['20th Century Fox Brazil', 'CINE Cinematográf...</td>\n",
       "      <td>0</td>\n",
       "      <td>0</td>\n",
       "    </tr>\n",
       "    <tr>\n",
       "      <th>9889</th>\n",
       "      <td>Influencer</td>\n",
       "      <td>2023-05-18</td>\n",
       "      <td>['Thriller', 'Horror', 'Mystery']</td>\n",
       "      <td>English</td>\n",
       "      <td>0.0</td>\n",
       "      <td>0</td>\n",
       "      <td>8.454</td>\n",
       "      <td>0</td>\n",
       "      <td>['Octane Entertainment', 'Superchill']</td>\n",
       "      <td>0</td>\n",
       "      <td>92</td>\n",
       "    </tr>\n",
       "    <tr>\n",
       "      <th>9922</th>\n",
       "      <td>Mental Finger</td>\n",
       "      <td>2023-05-06</td>\n",
       "      <td>['Comedy', 'Action']</td>\n",
       "      <td>Sundanese</td>\n",
       "      <td>0.0</td>\n",
       "      <td>0</td>\n",
       "      <td>9.660</td>\n",
       "      <td>0</td>\n",
       "      <td>['Cinemora Pictures']</td>\n",
       "      <td>0</td>\n",
       "      <td>12</td>\n",
       "    </tr>\n",
       "    <tr>\n",
       "      <th>9926</th>\n",
       "      <td>Patricia, A Hidden Passion</td>\n",
       "      <td>2020-01-21</td>\n",
       "      <td>['Drama', 'Comedy']</td>\n",
       "      <td>Spanish</td>\n",
       "      <td>6.0</td>\n",
       "      <td>33</td>\n",
       "      <td>12.780</td>\n",
       "      <td>0</td>\n",
       "      <td>['Cine Latino']</td>\n",
       "      <td>0</td>\n",
       "      <td>0</td>\n",
       "    </tr>\n",
       "    <tr>\n",
       "      <th>9932</th>\n",
       "      <td>Godzilla x Kong: The New Empire</td>\n",
       "      <td>2024-03-13</td>\n",
       "      <td>['Action', 'Science Fiction', 'Adventure']</td>\n",
       "      <td>English</td>\n",
       "      <td>0.0</td>\n",
       "      <td>0</td>\n",
       "      <td>11.839</td>\n",
       "      <td>0</td>\n",
       "      <td>['Legendary Pictures']</td>\n",
       "      <td>0</td>\n",
       "      <td>0</td>\n",
       "    </tr>\n",
       "  </tbody>\n",
       "</table>\n",
       "<p>173 rows × 11 columns</p>\n",
       "</div>"
      ],
      "text/plain": [
       "                                 title release_date  \\\n",
       "23                              Fast X   2023-05-17   \n",
       "100                        Kiss, Kiss!   2023-04-26   \n",
       "101                 The Little Mermaid   2023-05-18   \n",
       "128   Transformers: Rise of the Beasts   2023-06-07   \n",
       "184                          The Flash   2023-06-14   \n",
       "...                                ...          ...   \n",
       "9847      Divaldo: O Mensageiro da Paz   2019-09-12   \n",
       "9889                        Influencer   2023-05-18   \n",
       "9922                     Mental Finger   2023-05-06   \n",
       "9926        Patricia, A Hidden Passion   2020-01-21   \n",
       "9932   Godzilla x Kong: The New Empire   2024-03-13   \n",
       "\n",
       "                                             genres original_language  \\\n",
       "23                  ['Action', 'Crime', 'Thriller']           English   \n",
       "100                           ['Romance', 'Comedy']            Polish   \n",
       "101   ['Adventure', 'Family', 'Fantasy', 'Romance']           English   \n",
       "128      ['Action', 'Adventure', 'Science Fiction']           English   \n",
       "184      ['Science Fiction', 'Action', 'Adventure']           English   \n",
       "...                                             ...               ...   \n",
       "9847                                      ['Drama']        Portuguese   \n",
       "9889              ['Thriller', 'Horror', 'Mystery']           English   \n",
       "9922                           ['Comedy', 'Action']         Sundanese   \n",
       "9926                            ['Drama', 'Comedy']           Spanish   \n",
       "9932     ['Action', 'Science Fiction', 'Adventure']           English   \n",
       "\n",
       "      vote_average  vote_count  popularity     budget  \\\n",
       "23             0.0           0     732.647  340000000   \n",
       "100            6.9          15     361.900          0   \n",
       "101            0.0           0     220.944          0   \n",
       "128            0.0           0     222.430  200000000   \n",
       "184            0.0           0     123.659  220000000   \n",
       "...            ...         ...         ...        ...   \n",
       "9847           8.3          59      16.640          0   \n",
       "9889           0.0           0       8.454          0   \n",
       "9922           0.0           0       9.660          0   \n",
       "9926           6.0          33      12.780          0   \n",
       "9932           0.0           0      11.839          0   \n",
       "\n",
       "                                   production_companies  revenue  runtime  \n",
       "23    ['Universal Pictures', 'Original Film', 'One R...        0      142  \n",
       "100                                      ['Lightcraft']        0        0  \n",
       "101   ['Walt Disney Pictures', 'Lucamar Productions'...        0      135  \n",
       "128   ['Skydance Media', 'Paramount', 'di Bonaventur...        0        0  \n",
       "184   ['Warner Bros. Pictures', 'Double Dream', 'The...        0        0  \n",
       "...                                                 ...      ...      ...  \n",
       "9847  ['20th Century Fox Brazil', 'CINE Cinematográf...        0        0  \n",
       "9889             ['Octane Entertainment', 'Superchill']        0       92  \n",
       "9922                              ['Cinemora Pictures']        0       12  \n",
       "9926                                    ['Cine Latino']        0        0  \n",
       "9932                             ['Legendary Pictures']        0        0  \n",
       "\n",
       "[173 rows x 11 columns]"
      ]
     },
     "execution_count": 36,
     "metadata": {},
     "output_type": "execute_result"
    }
   ],
   "source": [
    "df[(df['vote_average'] == 0) | (df['vote_count'] == 0) | (df['runtime'] == 0)] "
   ]
  },
  {
   "cell_type": "code",
   "execution_count": 37,
   "id": "8e0a21bd",
   "metadata": {},
   "outputs": [],
   "source": [
    "df = df[~((df['vote_average']==0) | (df['vote_count']==0) | (df['runtime']==0))]"
   ]
  },
  {
   "cell_type": "code",
   "execution_count": 38,
   "id": "389b57b9",
   "metadata": {},
   "outputs": [
    {
     "data": {
      "text/plain": [
       "(9223, 11)"
      ]
     },
     "execution_count": 38,
     "metadata": {},
     "output_type": "execute_result"
    }
   ],
   "source": [
    "df.shape"
   ]
  },
  {
   "cell_type": "code",
   "execution_count": 39,
   "id": "e23cef16",
   "metadata": {},
   "outputs": [
    {
     "data": {
      "text/html": [
       "<div>\n",
       "<style scoped>\n",
       "    .dataframe tbody tr th:only-of-type {\n",
       "        vertical-align: middle;\n",
       "    }\n",
       "\n",
       "    .dataframe tbody tr th {\n",
       "        vertical-align: top;\n",
       "    }\n",
       "\n",
       "    .dataframe thead th {\n",
       "        text-align: right;\n",
       "    }\n",
       "</style>\n",
       "<table border=\"1\" class=\"dataframe\">\n",
       "  <thead>\n",
       "    <tr style=\"text-align: right;\">\n",
       "      <th></th>\n",
       "      <th>vote_average</th>\n",
       "      <th>vote_count</th>\n",
       "      <th>popularity</th>\n",
       "      <th>budget</th>\n",
       "      <th>revenue</th>\n",
       "      <th>runtime</th>\n",
       "    </tr>\n",
       "  </thead>\n",
       "  <tbody>\n",
       "    <tr>\n",
       "      <th>count</th>\n",
       "      <td>9223.000000</td>\n",
       "      <td>9223.000000</td>\n",
       "      <td>9223.000000</td>\n",
       "      <td>9.223000e+03</td>\n",
       "      <td>9.223000e+03</td>\n",
       "      <td>9223.000000</td>\n",
       "    </tr>\n",
       "    <tr>\n",
       "      <th>mean</th>\n",
       "      <td>6.542546</td>\n",
       "      <td>1652.788247</td>\n",
       "      <td>31.635078</td>\n",
       "      <td>2.081719e+07</td>\n",
       "      <td>6.479669e+07</td>\n",
       "      <td>103.287867</td>\n",
       "    </tr>\n",
       "    <tr>\n",
       "      <th>std</th>\n",
       "      <td>0.907423</td>\n",
       "      <td>2952.562540</td>\n",
       "      <td>114.867339</td>\n",
       "      <td>3.935068e+07</td>\n",
       "      <td>1.596469e+08</td>\n",
       "      <td>24.410714</td>\n",
       "    </tr>\n",
       "    <tr>\n",
       "      <th>min</th>\n",
       "      <td>1.000000</td>\n",
       "      <td>1.000000</td>\n",
       "      <td>7.411000</td>\n",
       "      <td>0.000000e+00</td>\n",
       "      <td>0.000000e+00</td>\n",
       "      <td>2.000000</td>\n",
       "    </tr>\n",
       "    <tr>\n",
       "      <th>25%</th>\n",
       "      <td>6.000000</td>\n",
       "      <td>170.000000</td>\n",
       "      <td>13.591000</td>\n",
       "      <td>0.000000e+00</td>\n",
       "      <td>0.000000e+00</td>\n",
       "      <td>91.000000</td>\n",
       "    </tr>\n",
       "    <tr>\n",
       "      <th>50%</th>\n",
       "      <td>6.600000</td>\n",
       "      <td>580.000000</td>\n",
       "      <td>17.619000</td>\n",
       "      <td>2.500000e+06</td>\n",
       "      <td>3.769990e+06</td>\n",
       "      <td>101.000000</td>\n",
       "    </tr>\n",
       "    <tr>\n",
       "      <th>75%</th>\n",
       "      <td>7.200000</td>\n",
       "      <td>1726.000000</td>\n",
       "      <td>27.182500</td>\n",
       "      <td>2.500000e+07</td>\n",
       "      <td>5.806524e+07</td>\n",
       "      <td>115.000000</td>\n",
       "    </tr>\n",
       "    <tr>\n",
       "      <th>max</th>\n",
       "      <td>10.000000</td>\n",
       "      <td>33633.000000</td>\n",
       "      <td>5089.969000</td>\n",
       "      <td>5.793304e+08</td>\n",
       "      <td>2.923706e+09</td>\n",
       "      <td>449.000000</td>\n",
       "    </tr>\n",
       "  </tbody>\n",
       "</table>\n",
       "</div>"
      ],
      "text/plain": [
       "       vote_average    vote_count   popularity        budget       revenue  \\\n",
       "count   9223.000000   9223.000000  9223.000000  9.223000e+03  9.223000e+03   \n",
       "mean       6.542546   1652.788247    31.635078  2.081719e+07  6.479669e+07   \n",
       "std        0.907423   2952.562540   114.867339  3.935068e+07  1.596469e+08   \n",
       "min        1.000000      1.000000     7.411000  0.000000e+00  0.000000e+00   \n",
       "25%        6.000000    170.000000    13.591000  0.000000e+00  0.000000e+00   \n",
       "50%        6.600000    580.000000    17.619000  2.500000e+06  3.769990e+06   \n",
       "75%        7.200000   1726.000000    27.182500  2.500000e+07  5.806524e+07   \n",
       "max       10.000000  33633.000000  5089.969000  5.793304e+08  2.923706e+09   \n",
       "\n",
       "           runtime  \n",
       "count  9223.000000  \n",
       "mean    103.287867  \n",
       "std      24.410714  \n",
       "min       2.000000  \n",
       "25%      91.000000  \n",
       "50%     101.000000  \n",
       "75%     115.000000  \n",
       "max     449.000000  "
      ]
     },
     "execution_count": 39,
     "metadata": {},
     "output_type": "execute_result"
    }
   ],
   "source": [
    "df.describe()"
   ]
  },
  {
   "cell_type": "code",
   "execution_count": 40,
   "id": "8f004c4a",
   "metadata": {},
   "outputs": [
    {
     "data": {
      "text/plain": [
       "title                    object\n",
       "release_date             object\n",
       "genres                   object\n",
       "original_language        object\n",
       "vote_average            float64\n",
       "vote_count                int64\n",
       "popularity              float64\n",
       "budget                    int64\n",
       "production_companies     object\n",
       "revenue                   int64\n",
       "runtime                   int64\n",
       "dtype: object"
      ]
     },
     "execution_count": 40,
     "metadata": {},
     "output_type": "execute_result"
    }
   ],
   "source": [
    "df.dtypes"
   ]
  },
  {
   "cell_type": "code",
   "execution_count": 41,
   "id": "34153a21",
   "metadata": {},
   "outputs": [],
   "source": [
    "df['profit'] = df['revenue'] - df['budget']"
   ]
  },
  {
   "cell_type": "code",
   "execution_count": 42,
   "id": "03053cf5",
   "metadata": {},
   "outputs": [
    {
     "data": {
      "text/html": [
       "<div>\n",
       "<style scoped>\n",
       "    .dataframe tbody tr th:only-of-type {\n",
       "        vertical-align: middle;\n",
       "    }\n",
       "\n",
       "    .dataframe tbody tr th {\n",
       "        vertical-align: top;\n",
       "    }\n",
       "\n",
       "    .dataframe thead th {\n",
       "        text-align: right;\n",
       "    }\n",
       "</style>\n",
       "<table border=\"1\" class=\"dataframe\">\n",
       "  <thead>\n",
       "    <tr style=\"text-align: right;\">\n",
       "      <th></th>\n",
       "      <th>title</th>\n",
       "      <th>release_date</th>\n",
       "      <th>genres</th>\n",
       "      <th>original_language</th>\n",
       "      <th>vote_average</th>\n",
       "      <th>vote_count</th>\n",
       "      <th>popularity</th>\n",
       "      <th>budget</th>\n",
       "      <th>production_companies</th>\n",
       "      <th>revenue</th>\n",
       "      <th>runtime</th>\n",
       "      <th>profit</th>\n",
       "    </tr>\n",
       "  </thead>\n",
       "  <tbody>\n",
       "    <tr>\n",
       "      <th>0</th>\n",
       "      <td>The Pope's Exorcist</td>\n",
       "      <td>2023-04-05</td>\n",
       "      <td>['Horror', 'Mystery', 'Thriller']</td>\n",
       "      <td>English</td>\n",
       "      <td>7.4</td>\n",
       "      <td>619</td>\n",
       "      <td>5089.969</td>\n",
       "      <td>18000000</td>\n",
       "      <td>['Screen Gems', '2.0 Entertainment', 'Jesus &amp; ...</td>\n",
       "      <td>65675816</td>\n",
       "      <td>103</td>\n",
       "      <td>47675816</td>\n",
       "    </tr>\n",
       "    <tr>\n",
       "      <th>1</th>\n",
       "      <td>Ant-Man and the Wasp: Quantumania</td>\n",
       "      <td>2023-02-15</td>\n",
       "      <td>['Action', 'Adventure', 'Science Fiction']</td>\n",
       "      <td>English</td>\n",
       "      <td>6.6</td>\n",
       "      <td>2294</td>\n",
       "      <td>4665.438</td>\n",
       "      <td>200000000</td>\n",
       "      <td>['Marvel Studios', 'Kevin Feige Productions']</td>\n",
       "      <td>464566092</td>\n",
       "      <td>125</td>\n",
       "      <td>264566092</td>\n",
       "    </tr>\n",
       "    <tr>\n",
       "      <th>2</th>\n",
       "      <td>The Super Mario Bros. Movie</td>\n",
       "      <td>2023-04-05</td>\n",
       "      <td>['Animation', 'Adventure', 'Family', 'Fantasy'...</td>\n",
       "      <td>English</td>\n",
       "      <td>7.5</td>\n",
       "      <td>1861</td>\n",
       "      <td>3935.550</td>\n",
       "      <td>100000000</td>\n",
       "      <td>['Universal Pictures', 'Illumination', 'Ninten...</td>\n",
       "      <td>1121048165</td>\n",
       "      <td>92</td>\n",
       "      <td>1021048165</td>\n",
       "    </tr>\n",
       "    <tr>\n",
       "      <th>3</th>\n",
       "      <td>Ghosted</td>\n",
       "      <td>2023-04-18</td>\n",
       "      <td>['Action', 'Comedy', 'Romance']</td>\n",
       "      <td>English</td>\n",
       "      <td>7.2</td>\n",
       "      <td>652</td>\n",
       "      <td>2791.532</td>\n",
       "      <td>0</td>\n",
       "      <td>['Skydance Media', 'Apple Studios']</td>\n",
       "      <td>0</td>\n",
       "      <td>120</td>\n",
       "      <td>0</td>\n",
       "    </tr>\n",
       "    <tr>\n",
       "      <th>4</th>\n",
       "      <td>Shazam! Fury of the Gods</td>\n",
       "      <td>2023-03-15</td>\n",
       "      <td>['Action', 'Comedy', 'Fantasy', 'Adventure']</td>\n",
       "      <td>English</td>\n",
       "      <td>6.8</td>\n",
       "      <td>1510</td>\n",
       "      <td>2702.593</td>\n",
       "      <td>125000000</td>\n",
       "      <td>['New Line Cinema', 'The Safran Company', 'DC ...</td>\n",
       "      <td>133437105</td>\n",
       "      <td>130</td>\n",
       "      <td>8437105</td>\n",
       "    </tr>\n",
       "  </tbody>\n",
       "</table>\n",
       "</div>"
      ],
      "text/plain": [
       "                               title release_date  \\\n",
       "0                The Pope's Exorcist   2023-04-05   \n",
       "1  Ant-Man and the Wasp: Quantumania   2023-02-15   \n",
       "2        The Super Mario Bros. Movie   2023-04-05   \n",
       "3                            Ghosted   2023-04-18   \n",
       "4           Shazam! Fury of the Gods   2023-03-15   \n",
       "\n",
       "                                              genres original_language  \\\n",
       "0                  ['Horror', 'Mystery', 'Thriller']           English   \n",
       "1         ['Action', 'Adventure', 'Science Fiction']           English   \n",
       "2  ['Animation', 'Adventure', 'Family', 'Fantasy'...           English   \n",
       "3                    ['Action', 'Comedy', 'Romance']           English   \n",
       "4       ['Action', 'Comedy', 'Fantasy', 'Adventure']           English   \n",
       "\n",
       "   vote_average  vote_count  popularity     budget  \\\n",
       "0           7.4         619    5089.969   18000000   \n",
       "1           6.6        2294    4665.438  200000000   \n",
       "2           7.5        1861    3935.550  100000000   \n",
       "3           7.2         652    2791.532          0   \n",
       "4           6.8        1510    2702.593  125000000   \n",
       "\n",
       "                                production_companies     revenue  runtime  \\\n",
       "0  ['Screen Gems', '2.0 Entertainment', 'Jesus & ...    65675816      103   \n",
       "1      ['Marvel Studios', 'Kevin Feige Productions']   464566092      125   \n",
       "2  ['Universal Pictures', 'Illumination', 'Ninten...  1121048165       92   \n",
       "3                ['Skydance Media', 'Apple Studios']           0      120   \n",
       "4  ['New Line Cinema', 'The Safran Company', 'DC ...   133437105      130   \n",
       "\n",
       "       profit  \n",
       "0    47675816  \n",
       "1   264566092  \n",
       "2  1021048165  \n",
       "3           0  \n",
       "4     8437105  "
      ]
     },
     "execution_count": 42,
     "metadata": {},
     "output_type": "execute_result"
    }
   ],
   "source": [
    "df.head()"
   ]
  },
  {
   "cell_type": "code",
   "execution_count": 43,
   "id": "0a416700",
   "metadata": {},
   "outputs": [],
   "source": [
    "#df.to_csv('movies_dz.csv', index=False)"
   ]
  }
 ],
 "metadata": {
  "kernelspec": {
   "display_name": "Python 3 (ipykernel)",
   "language": "python",
   "name": "python3"
  },
  "language_info": {
   "codemirror_mode": {
    "name": "ipython",
    "version": 3
   },
   "file_extension": ".py",
   "mimetype": "text/x-python",
   "name": "python",
   "nbconvert_exporter": "python",
   "pygments_lexer": "ipython3",
   "version": "3.9.13"
  }
 },
 "nbformat": 4,
 "nbformat_minor": 5
}
