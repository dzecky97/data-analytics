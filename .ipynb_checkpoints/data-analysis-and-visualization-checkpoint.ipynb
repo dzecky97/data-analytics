{
 "cells": [
  {
   "cell_type": "markdown",
   "id": "9fb3989f",
   "metadata": {
    "papermill": {
     "duration": 0.02121,
     "end_time": "2023-05-19T06:22:23.672620",
     "exception": false,
     "start_time": "2023-05-19T06:22:23.651410",
     "status": "completed"
    },
    "tags": []
   },
   "source": [
    "# **Top 10000 Popular Movies Dataset**\n",
    "\n",
    "### Including libraries"
   ]
  },
  {
   "cell_type": "code",
   "execution_count": null,
   "id": "6a39bae1",
   "metadata": {
    "execution": {
     "iopub.execute_input": "2023-05-19T06:22:23.716885Z",
     "iopub.status.busy": "2023-05-19T06:22:23.716487Z",
     "iopub.status.idle": "2023-05-19T06:22:23.728554Z",
     "shell.execute_reply": "2023-05-19T06:22:23.727750Z"
    },
    "papermill": {
     "duration": 0.036711,
     "end_time": "2023-05-19T06:22:23.730889",
     "exception": false,
     "start_time": "2023-05-19T06:22:23.694178",
     "status": "completed"
    },
    "tags": []
   },
   "outputs": [],
   "source": [
    "import numpy as np\n",
    "import pandas as pd\n",
    "import matplotlib.pyplot as plt"
   ]
  },
  {
   "cell_type": "markdown",
   "id": "568d549f",
   "metadata": {
    "papermill": {
     "duration": 0.02093,
     "end_time": "2023-05-19T06:22:23.772823",
     "exception": false,
     "start_time": "2023-05-19T06:22:23.751893",
     "status": "completed"
    },
    "tags": []
   },
   "source": [
    "### Reading csv file as df"
   ]
  },
  {
   "cell_type": "code",
   "execution_count": null,
   "id": "05b574de",
   "metadata": {
    "execution": {
     "iopub.execute_input": "2023-05-19T06:22:23.816892Z",
     "iopub.status.busy": "2023-05-19T06:22:23.816096Z",
     "iopub.status.idle": "2023-05-19T06:22:24.054512Z",
     "shell.execute_reply": "2023-05-19T06:22:24.053460Z"
    },
    "papermill": {
     "duration": 0.263792,
     "end_time": "2023-05-19T06:22:24.057641",
     "exception": false,
     "start_time": "2023-05-19T06:22:23.793849",
     "status": "completed"
    },
    "tags": []
   },
   "outputs": [],
   "source": [
    "df = pd.read_csv('./popular_10000_movies_tmdb.csv')\n",
    "#First five rows of DataFrame\n",
    "df.head()"
   ]
  },
  {
   "cell_type": "markdown",
   "id": "adc1f589",
   "metadata": {
    "papermill": {
     "duration": 0.021218,
     "end_time": "2023-05-19T06:22:24.100215",
     "exception": false,
     "start_time": "2023-05-19T06:22:24.078997",
     "status": "completed"
    },
    "tags": []
   },
   "source": [
    "### Shape of DataFrame"
   ]
  },
  {
   "cell_type": "code",
   "execution_count": null,
   "id": "53ba5043",
   "metadata": {
    "execution": {
     "iopub.execute_input": "2023-05-19T06:22:24.145211Z",
     "iopub.status.busy": "2023-05-19T06:22:24.144374Z",
     "iopub.status.idle": "2023-05-19T06:22:24.151565Z",
     "shell.execute_reply": "2023-05-19T06:22:24.150397Z"
    },
    "papermill": {
     "duration": 0.032401,
     "end_time": "2023-05-19T06:22:24.153772",
     "exception": false,
     "start_time": "2023-05-19T06:22:24.121371",
     "status": "completed"
    },
    "tags": []
   },
   "outputs": [],
   "source": [
    "df.shape"
   ]
  },
  {
   "cell_type": "markdown",
   "id": "5dab7262",
   "metadata": {
    "papermill": {
     "duration": 0.021226,
     "end_time": "2023-05-19T06:22:24.196765",
     "exception": false,
     "start_time": "2023-05-19T06:22:24.175539",
     "status": "completed"
    },
    "tags": []
   },
   "source": [
    "### List of columns in DataFrame"
   ]
  },
  {
   "cell_type": "code",
   "execution_count": null,
   "id": "6b0f1a8c",
   "metadata": {
    "execution": {
     "iopub.execute_input": "2023-05-19T06:22:24.241963Z",
     "iopub.status.busy": "2023-05-19T06:22:24.241156Z",
     "iopub.status.idle": "2023-05-19T06:22:24.248521Z",
     "shell.execute_reply": "2023-05-19T06:22:24.247280Z"
    },
    "papermill": {
     "duration": 0.032529,
     "end_time": "2023-05-19T06:22:24.250910",
     "exception": false,
     "start_time": "2023-05-19T06:22:24.218381",
     "status": "completed"
    },
    "tags": []
   },
   "outputs": [],
   "source": [
    "df.columns"
   ]
  },
  {
   "cell_type": "code",
   "execution_count": null,
   "id": "eec56084",
   "metadata": {
    "execution": {
     "iopub.execute_input": "2023-05-19T06:22:24.297021Z",
     "iopub.status.busy": "2023-05-19T06:22:24.296593Z",
     "iopub.status.idle": "2023-05-19T06:22:24.303326Z",
     "shell.execute_reply": "2023-05-19T06:22:24.302258Z"
    },
    "papermill": {
     "duration": 0.032477,
     "end_time": "2023-05-19T06:22:24.305626",
     "exception": false,
     "start_time": "2023-05-19T06:22:24.273149",
     "status": "completed"
    },
    "tags": []
   },
   "outputs": [],
   "source": [
    "df['tagline'][0]"
   ]
  },
  {
   "cell_type": "markdown",
   "id": "95409776",
   "metadata": {
    "papermill": {
     "duration": 0.021453,
     "end_time": "2023-05-19T06:22:24.349465",
     "exception": false,
     "start_time": "2023-05-19T06:22:24.328012",
     "status": "completed"
    },
    "tags": []
   },
   "source": [
    "### Dropping useless columns from DataFrame"
   ]
  },
  {
   "cell_type": "code",
   "execution_count": null,
   "id": "96fee90c",
   "metadata": {
    "execution": {
     "iopub.execute_input": "2023-05-19T06:22:24.394982Z",
     "iopub.status.busy": "2023-05-19T06:22:24.394561Z",
     "iopub.status.idle": "2023-05-19T06:22:24.407904Z",
     "shell.execute_reply": "2023-05-19T06:22:24.406889Z"
    },
    "papermill": {
     "duration": 0.038801,
     "end_time": "2023-05-19T06:22:24.410384",
     "exception": false,
     "start_time": "2023-05-19T06:22:24.371583",
     "status": "completed"
    },
    "tags": []
   },
   "outputs": [],
   "source": [
    "df.drop(['id','overview','tagline'], axis=1, inplace=True)"
   ]
  },
  {
   "cell_type": "markdown",
   "id": "7bbb18a1",
   "metadata": {
    "papermill": {
     "duration": 0.021327,
     "end_time": "2023-05-19T06:22:24.453719",
     "exception": false,
     "start_time": "2023-05-19T06:22:24.432392",
     "status": "completed"
    },
    "tags": []
   },
   "source": [
    "### List of final columns"
   ]
  },
  {
   "cell_type": "code",
   "execution_count": null,
   "id": "f1dd57ef",
   "metadata": {
    "execution": {
     "iopub.execute_input": "2023-05-19T06:22:24.500611Z",
     "iopub.status.busy": "2023-05-19T06:22:24.499541Z",
     "iopub.status.idle": "2023-05-19T06:22:24.505821Z",
     "shell.execute_reply": "2023-05-19T06:22:24.505118Z"
    },
    "papermill": {
     "duration": 0.032101,
     "end_time": "2023-05-19T06:22:24.508017",
     "exception": false,
     "start_time": "2023-05-19T06:22:24.475916",
     "status": "completed"
    },
    "tags": []
   },
   "outputs": [],
   "source": [
    "df.columns"
   ]
  },
  {
   "cell_type": "markdown",
   "id": "5a1a90a4",
   "metadata": {
    "papermill": {
     "duration": 0.02178,
     "end_time": "2023-05-19T06:22:24.551747",
     "exception": false,
     "start_time": "2023-05-19T06:22:24.529967",
     "status": "completed"
    },
    "tags": []
   },
   "source": [
    "### Checking for null values in DataFrame"
   ]
  },
  {
   "cell_type": "code",
   "execution_count": null,
   "id": "89ec35a6",
   "metadata": {
    "execution": {
     "iopub.execute_input": "2023-05-19T06:22:24.598530Z",
     "iopub.status.busy": "2023-05-19T06:22:24.597453Z",
     "iopub.status.idle": "2023-05-19T06:22:24.622377Z",
     "shell.execute_reply": "2023-05-19T06:22:24.621307Z"
    },
    "papermill": {
     "duration": 0.050555,
     "end_time": "2023-05-19T06:22:24.624856",
     "exception": false,
     "start_time": "2023-05-19T06:22:24.574301",
     "status": "completed"
    },
    "tags": []
   },
   "outputs": [],
   "source": [
    "df.isnull().sum()"
   ]
  },
  {
   "cell_type": "markdown",
   "id": "7c26a4a8",
   "metadata": {
    "papermill": {
     "duration": 0.02242,
     "end_time": "2023-05-19T06:22:24.669857",
     "exception": false,
     "start_time": "2023-05-19T06:22:24.647437",
     "status": "completed"
    },
    "tags": []
   },
   "source": [
    "### Dropping rows with null values from DataFrame"
   ]
  },
  {
   "cell_type": "code",
   "execution_count": null,
   "id": "8f0533f8",
   "metadata": {
    "execution": {
     "iopub.execute_input": "2023-05-19T06:22:24.715816Z",
     "iopub.status.busy": "2023-05-19T06:22:24.715394Z",
     "iopub.status.idle": "2023-05-19T06:22:24.739457Z",
     "shell.execute_reply": "2023-05-19T06:22:24.738365Z"
    },
    "papermill": {
     "duration": 0.049814,
     "end_time": "2023-05-19T06:22:24.741791",
     "exception": false,
     "start_time": "2023-05-19T06:22:24.691977",
     "status": "completed"
    },
    "tags": []
   },
   "outputs": [],
   "source": [
    "df.dropna(axis=0, inplace=True)"
   ]
  },
  {
   "cell_type": "markdown",
   "id": "654e1bf5",
   "metadata": {
    "papermill": {
     "duration": 0.021971,
     "end_time": "2023-05-19T06:22:24.785785",
     "exception": false,
     "start_time": "2023-05-19T06:22:24.763814",
     "status": "completed"
    },
    "tags": []
   },
   "source": [
    "### Unique languages present in \"original_language\" column"
   ]
  },
  {
   "cell_type": "code",
   "execution_count": null,
   "id": "dfa5d6cc",
   "metadata": {
    "execution": {
     "iopub.execute_input": "2023-05-19T06:22:24.832144Z",
     "iopub.status.busy": "2023-05-19T06:22:24.831725Z",
     "iopub.status.idle": "2023-05-19T06:22:24.843421Z",
     "shell.execute_reply": "2023-05-19T06:22:24.842418Z"
    },
    "papermill": {
     "duration": 0.037363,
     "end_time": "2023-05-19T06:22:24.845599",
     "exception": false,
     "start_time": "2023-05-19T06:22:24.808236",
     "status": "completed"
    },
    "tags": []
   },
   "outputs": [],
   "source": [
    "df['original_language'].unique()"
   ]
  },
  {
   "cell_type": "markdown",
   "id": "48508445",
   "metadata": {
    "papermill": {
     "duration": 0.021904,
     "end_time": "2023-05-19T06:22:24.889646",
     "exception": false,
     "start_time": "2023-05-19T06:22:24.867742",
     "status": "completed"
    },
    "tags": []
   },
   "source": [
    "### Rows with \"xx\" as original_language"
   ]
  },
  {
   "cell_type": "code",
   "execution_count": null,
   "id": "f2cda777",
   "metadata": {
    "execution": {
     "iopub.execute_input": "2023-05-19T06:22:24.937063Z",
     "iopub.status.busy": "2023-05-19T06:22:24.936048Z",
     "iopub.status.idle": "2023-05-19T06:22:24.955434Z",
     "shell.execute_reply": "2023-05-19T06:22:24.954321Z"
    },
    "papermill": {
     "duration": 0.045364,
     "end_time": "2023-05-19T06:22:24.957841",
     "exception": false,
     "start_time": "2023-05-19T06:22:24.912477",
     "status": "completed"
    },
    "tags": []
   },
   "outputs": [],
   "source": [
    "df[df['original_language'] == 'xx']"
   ]
  },
  {
   "cell_type": "markdown",
   "id": "214660b0",
   "metadata": {
    "papermill": {
     "duration": 0.022452,
     "end_time": "2023-05-19T06:22:25.003878",
     "exception": false,
     "start_time": "2023-05-19T06:22:24.981426",
     "status": "completed"
    },
    "tags": []
   },
   "source": [
    "### Dropping rows with \"xx\" original_language"
   ]
  },
  {
   "cell_type": "code",
   "execution_count": null,
   "id": "077b8d49",
   "metadata": {
    "execution": {
     "iopub.execute_input": "2023-05-19T06:22:25.051582Z",
     "iopub.status.busy": "2023-05-19T06:22:25.050553Z",
     "iopub.status.idle": "2023-05-19T06:22:25.059762Z",
     "shell.execute_reply": "2023-05-19T06:22:25.058867Z"
    },
    "papermill": {
     "duration": 0.035801,
     "end_time": "2023-05-19T06:22:25.062358",
     "exception": false,
     "start_time": "2023-05-19T06:22:25.026557",
     "status": "completed"
    },
    "tags": []
   },
   "outputs": [],
   "source": [
    "df = df[~(df['original_language'] == 'xx')]"
   ]
  },
  {
   "cell_type": "markdown",
   "id": "e31f6756",
   "metadata": {
    "papermill": {
     "duration": 0.022962,
     "end_time": "2023-05-19T06:22:25.107810",
     "exception": false,
     "start_time": "2023-05-19T06:22:25.084848",
     "status": "completed"
    },
    "tags": []
   },
   "source": [
    "### Rows with \"sh\" as original_language"
   ]
  },
  {
   "cell_type": "code",
   "execution_count": null,
   "id": "2571418d",
   "metadata": {
    "execution": {
     "iopub.execute_input": "2023-05-19T06:22:25.155857Z",
     "iopub.status.busy": "2023-05-19T06:22:25.155098Z",
     "iopub.status.idle": "2023-05-19T06:22:25.172852Z",
     "shell.execute_reply": "2023-05-19T06:22:25.171663Z"
    },
    "papermill": {
     "duration": 0.044711,
     "end_time": "2023-05-19T06:22:25.175246",
     "exception": false,
     "start_time": "2023-05-19T06:22:25.130535",
     "status": "completed"
    },
    "tags": []
   },
   "outputs": [],
   "source": [
    "df[df['original_language'] == 'sh']"
   ]
  },
  {
   "cell_type": "markdown",
   "id": "d0fd6b82",
   "metadata": {
    "papermill": {
     "duration": 0.023269,
     "end_time": "2023-05-19T06:22:25.221558",
     "exception": false,
     "start_time": "2023-05-19T06:22:25.198289",
     "status": "completed"
    },
    "tags": []
   },
   "source": [
    "### Dropping rows with \"sh\" original_language"
   ]
  },
  {
   "cell_type": "code",
   "execution_count": null,
   "id": "7c13c116",
   "metadata": {
    "execution": {
     "iopub.execute_input": "2023-05-19T06:22:25.269010Z",
     "iopub.status.busy": "2023-05-19T06:22:25.268488Z",
     "iopub.status.idle": "2023-05-19T06:22:25.278134Z",
     "shell.execute_reply": "2023-05-19T06:22:25.277112Z"
    },
    "papermill": {
     "duration": 0.036223,
     "end_time": "2023-05-19T06:22:25.280599",
     "exception": false,
     "start_time": "2023-05-19T06:22:25.244376",
     "status": "completed"
    },
    "tags": []
   },
   "outputs": [],
   "source": [
    "df = df[~(df['original_language'] == 'sh')]"
   ]
  },
  {
   "cell_type": "markdown",
   "id": "13687f12",
   "metadata": {
    "papermill": {
     "duration": 0.022305,
     "end_time": "2023-05-19T06:22:25.325790",
     "exception": false,
     "start_time": "2023-05-19T06:22:25.303485",
     "status": "completed"
    },
    "tags": []
   },
   "source": [
    "### No. of duplicate entries in the DataFrame"
   ]
  },
  {
   "cell_type": "code",
   "execution_count": null,
   "id": "4ff06813",
   "metadata": {
    "execution": {
     "iopub.execute_input": "2023-05-19T06:22:25.373765Z",
     "iopub.status.busy": "2023-05-19T06:22:25.372658Z",
     "iopub.status.idle": "2023-05-19T06:22:25.398661Z",
     "shell.execute_reply": "2023-05-19T06:22:25.397625Z"
    },
    "papermill": {
     "duration": 0.052305,
     "end_time": "2023-05-19T06:22:25.401046",
     "exception": false,
     "start_time": "2023-05-19T06:22:25.348741",
     "status": "completed"
    },
    "tags": []
   },
   "outputs": [],
   "source": [
    "df.duplicated().sum()"
   ]
  },
  {
   "cell_type": "markdown",
   "id": "3a1a6697",
   "metadata": {
    "papermill": {
     "duration": 0.022351,
     "end_time": "2023-05-19T06:22:25.446153",
     "exception": false,
     "start_time": "2023-05-19T06:22:25.423802",
     "status": "completed"
    },
    "tags": []
   },
   "source": [
    "### No. of movies with unique titles"
   ]
  },
  {
   "cell_type": "code",
   "execution_count": null,
   "id": "c530710c",
   "metadata": {
    "execution": {
     "iopub.execute_input": "2023-05-19T06:22:25.493681Z",
     "iopub.status.busy": "2023-05-19T06:22:25.493270Z",
     "iopub.status.idle": "2023-05-19T06:22:25.502363Z",
     "shell.execute_reply": "2023-05-19T06:22:25.501289Z"
    },
    "papermill": {
     "duration": 0.035422,
     "end_time": "2023-05-19T06:22:25.504518",
     "exception": false,
     "start_time": "2023-05-19T06:22:25.469096",
     "status": "completed"
    },
    "tags": []
   },
   "outputs": [],
   "source": [
    "df['title'].nunique()"
   ]
  },
  {
   "cell_type": "markdown",
   "id": "07105123",
   "metadata": {
    "papermill": {
     "duration": 0.022772,
     "end_time": "2023-05-19T06:22:25.550097",
     "exception": false,
     "start_time": "2023-05-19T06:22:25.527325",
     "status": "completed"
    },
    "tags": []
   },
   "source": [
    "### No. of movies with same title"
   ]
  },
  {
   "cell_type": "code",
   "execution_count": null,
   "id": "c9599a49",
   "metadata": {
    "execution": {
     "iopub.execute_input": "2023-05-19T06:22:25.597453Z",
     "iopub.status.busy": "2023-05-19T06:22:25.597040Z",
     "iopub.status.idle": "2023-05-19T06:22:25.605536Z",
     "shell.execute_reply": "2023-05-19T06:22:25.604519Z"
    },
    "papermill": {
     "duration": 0.034924,
     "end_time": "2023-05-19T06:22:25.607733",
     "exception": false,
     "start_time": "2023-05-19T06:22:25.572809",
     "status": "completed"
    },
    "tags": []
   },
   "outputs": [],
   "source": [
    "df['title'].duplicated().sum()"
   ]
  },
  {
   "cell_type": "markdown",
   "id": "c5ffa535",
   "metadata": {
    "papermill": {
     "duration": 0.022766,
     "end_time": "2023-05-19T06:22:25.653824",
     "exception": false,
     "start_time": "2023-05-19T06:22:25.631058",
     "status": "completed"
    },
    "tags": []
   },
   "source": [
    "### Rows with duplicate movie titles"
   ]
  },
  {
   "cell_type": "code",
   "execution_count": null,
   "id": "1b341b9d",
   "metadata": {
    "execution": {
     "iopub.execute_input": "2023-05-19T06:22:25.702727Z",
     "iopub.status.busy": "2023-05-19T06:22:25.702333Z",
     "iopub.status.idle": "2023-05-19T06:22:25.734851Z",
     "shell.execute_reply": "2023-05-19T06:22:25.733775Z"
    },
    "papermill": {
     "duration": 0.060197,
     "end_time": "2023-05-19T06:22:25.737406",
     "exception": false,
     "start_time": "2023-05-19T06:22:25.677209",
     "status": "completed"
    },
    "tags": []
   },
   "outputs": [],
   "source": [
    "df[df['title'].isin(df['title'][df['title'].duplicated()])].sort_values('title')"
   ]
  },
  {
   "cell_type": "markdown",
   "id": "b3310d23",
   "metadata": {
    "papermill": {
     "duration": 0.023479,
     "end_time": "2023-05-19T06:22:25.784434",
     "exception": false,
     "start_time": "2023-05-19T06:22:25.760955",
     "status": "completed"
    },
    "tags": []
   },
   "source": [
    "### Rows with empty genres column"
   ]
  },
  {
   "cell_type": "code",
   "execution_count": null,
   "id": "093226dc",
   "metadata": {
    "execution": {
     "iopub.execute_input": "2023-05-19T06:22:25.834354Z",
     "iopub.status.busy": "2023-05-19T06:22:25.833319Z",
     "iopub.status.idle": "2023-05-19T06:22:25.867151Z",
     "shell.execute_reply": "2023-05-19T06:22:25.865957Z"
    },
    "papermill": {
     "duration": 0.061363,
     "end_time": "2023-05-19T06:22:25.869539",
     "exception": false,
     "start_time": "2023-05-19T06:22:25.808176",
     "status": "completed"
    },
    "tags": []
   },
   "outputs": [],
   "source": [
    "df[df['genres'].str.len() == 2]"
   ]
  },
  {
   "cell_type": "markdown",
   "id": "b28efbfb",
   "metadata": {
    "papermill": {
     "duration": 0.024134,
     "end_time": "2023-05-19T06:22:25.918114",
     "exception": false,
     "start_time": "2023-05-19T06:22:25.893980",
     "status": "completed"
    },
    "tags": []
   },
   "source": [
    "### Dropping rows with empty genres column"
   ]
  },
  {
   "cell_type": "code",
   "execution_count": null,
   "id": "26f2a82e",
   "metadata": {
    "execution": {
     "iopub.execute_input": "2023-05-19T06:22:25.969380Z",
     "iopub.status.busy": "2023-05-19T06:22:25.968637Z",
     "iopub.status.idle": "2023-05-19T06:22:25.982870Z",
     "shell.execute_reply": "2023-05-19T06:22:25.981810Z"
    },
    "papermill": {
     "duration": 0.043247,
     "end_time": "2023-05-19T06:22:25.986004",
     "exception": false,
     "start_time": "2023-05-19T06:22:25.942757",
     "status": "completed"
    },
    "tags": []
   },
   "outputs": [],
   "source": [
    "df = df[~(df['genres'].str.len() == 2)]"
   ]
  },
  {
   "cell_type": "markdown",
   "id": "f3f4664a",
   "metadata": {
    "papermill": {
     "duration": 0.024167,
     "end_time": "2023-05-19T06:22:26.035221",
     "exception": false,
     "start_time": "2023-05-19T06:22:26.011054",
     "status": "completed"
    },
    "tags": []
   },
   "source": [
    "### Rows with empty production_companies column"
   ]
  },
  {
   "cell_type": "code",
   "execution_count": null,
   "id": "1c037347",
   "metadata": {
    "execution": {
     "iopub.execute_input": "2023-05-19T06:22:26.086345Z",
     "iopub.status.busy": "2023-05-19T06:22:26.085677Z",
     "iopub.status.idle": "2023-05-19T06:22:26.117150Z",
     "shell.execute_reply": "2023-05-19T06:22:26.115909Z"
    },
    "papermill": {
     "duration": 0.059917,
     "end_time": "2023-05-19T06:22:26.119744",
     "exception": false,
     "start_time": "2023-05-19T06:22:26.059827",
     "status": "completed"
    },
    "tags": []
   },
   "outputs": [],
   "source": [
    "df[df['production_companies'].str.len() == 2]"
   ]
  },
  {
   "cell_type": "markdown",
   "id": "43533852",
   "metadata": {
    "papermill": {
     "duration": 0.024833,
     "end_time": "2023-05-19T06:22:26.169511",
     "exception": false,
     "start_time": "2023-05-19T06:22:26.144678",
     "status": "completed"
    },
    "tags": []
   },
   "source": [
    "### Dropping rows with empty production_companies column"
   ]
  },
  {
   "cell_type": "code",
   "execution_count": null,
   "id": "9ae9b26f",
   "metadata": {
    "execution": {
     "iopub.execute_input": "2023-05-19T06:22:26.221805Z",
     "iopub.status.busy": "2023-05-19T06:22:26.221414Z",
     "iopub.status.idle": "2023-05-19T06:22:26.236341Z",
     "shell.execute_reply": "2023-05-19T06:22:26.235046Z"
    },
    "papermill": {
     "duration": 0.04405,
     "end_time": "2023-05-19T06:22:26.239223",
     "exception": false,
     "start_time": "2023-05-19T06:22:26.195173",
     "status": "completed"
    },
    "tags": []
   },
   "outputs": [],
   "source": [
    "df = df[~(df['production_companies'].str.len() == 2)]"
   ]
  },
  {
   "cell_type": "markdown",
   "id": "6c43f691",
   "metadata": {
    "papermill": {
     "duration": 0.024562,
     "end_time": "2023-05-19T06:22:26.289153",
     "exception": false,
     "start_time": "2023-05-19T06:22:26.264591",
     "status": "completed"
    },
    "tags": []
   },
   "source": [
    "### Zeroes Count in Columns"
   ]
  },
  {
   "cell_type": "code",
   "execution_count": null,
   "id": "46c43e30",
   "metadata": {
    "execution": {
     "iopub.execute_input": "2023-05-19T06:22:26.340815Z",
     "iopub.status.busy": "2023-05-19T06:22:26.340401Z",
     "iopub.status.idle": "2023-05-19T06:22:26.359043Z",
     "shell.execute_reply": "2023-05-19T06:22:26.357899Z"
    },
    "papermill": {
     "duration": 0.047509,
     "end_time": "2023-05-19T06:22:26.361365",
     "exception": false,
     "start_time": "2023-05-19T06:22:26.313856",
     "status": "completed"
    },
    "tags": []
   },
   "outputs": [],
   "source": [
    "(df == 0).sum()"
   ]
  },
  {
   "cell_type": "markdown",
   "id": "74c6f86e",
   "metadata": {
    "papermill": {
     "duration": 0.024558,
     "end_time": "2023-05-19T06:22:26.410791",
     "exception": false,
     "start_time": "2023-05-19T06:22:26.386233",
     "status": "completed"
    },
    "tags": []
   },
   "source": [
    "### Rows with zero vote_average or vote_count or runtime values"
   ]
  },
  {
   "cell_type": "code",
   "execution_count": null,
   "id": "04f5ef49",
   "metadata": {
    "execution": {
     "iopub.execute_input": "2023-05-19T06:22:26.462365Z",
     "iopub.status.busy": "2023-05-19T06:22:26.461958Z",
     "iopub.status.idle": "2023-05-19T06:22:26.487459Z",
     "shell.execute_reply": "2023-05-19T06:22:26.486339Z"
    },
    "papermill": {
     "duration": 0.054013,
     "end_time": "2023-05-19T06:22:26.489824",
     "exception": false,
     "start_time": "2023-05-19T06:22:26.435811",
     "status": "completed"
    },
    "tags": []
   },
   "outputs": [],
   "source": [
    "df[(df['vote_average'] == 0) | (df['vote_count'] == 0) | (df['runtime'] == 0)]"
   ]
  },
  {
   "cell_type": "markdown",
   "id": "065a43fe",
   "metadata": {
    "papermill": {
     "duration": 0.025255,
     "end_time": "2023-05-19T06:22:26.540456",
     "exception": false,
     "start_time": "2023-05-19T06:22:26.515201",
     "status": "completed"
    },
    "tags": []
   },
   "source": [
    "### Dropping rows with zero vote_average or vote_count or runtime values"
   ]
  },
  {
   "cell_type": "code",
   "execution_count": null,
   "id": "04f7c765",
   "metadata": {
    "execution": {
     "iopub.execute_input": "2023-05-19T06:22:26.593398Z",
     "iopub.status.busy": "2023-05-19T06:22:26.593026Z",
     "iopub.status.idle": "2023-05-19T06:22:26.601178Z",
     "shell.execute_reply": "2023-05-19T06:22:26.599916Z"
    },
    "papermill": {
     "duration": 0.037513,
     "end_time": "2023-05-19T06:22:26.603656",
     "exception": false,
     "start_time": "2023-05-19T06:22:26.566143",
     "status": "completed"
    },
    "tags": []
   },
   "outputs": [],
   "source": [
    "df = df[~((df['vote_average'] == 0) | (df['vote_count'] == 0) | (df['runtime'] == 0))]"
   ]
  },
  {
   "cell_type": "markdown",
   "id": "f1e74c3d",
   "metadata": {
    "papermill": {
     "duration": 0.025046,
     "end_time": "2023-05-19T06:22:26.654168",
     "exception": false,
     "start_time": "2023-05-19T06:22:26.629122",
     "status": "completed"
    },
    "tags": []
   },
   "source": [
    "### Descriptive Statistics of DataFrame"
   ]
  },
  {
   "cell_type": "code",
   "execution_count": null,
   "id": "568d8ec6",
   "metadata": {
    "execution": {
     "iopub.execute_input": "2023-05-19T06:22:26.707904Z",
     "iopub.status.busy": "2023-05-19T06:22:26.707156Z",
     "iopub.status.idle": "2023-05-19T06:22:26.743445Z",
     "shell.execute_reply": "2023-05-19T06:22:26.742327Z"
    },
    "papermill": {
     "duration": 0.066382,
     "end_time": "2023-05-19T06:22:26.745829",
     "exception": false,
     "start_time": "2023-05-19T06:22:26.679447",
     "status": "completed"
    },
    "tags": []
   },
   "outputs": [],
   "source": [
    "df.describe()#include='object')"
   ]
  },
  {
   "cell_type": "markdown",
   "id": "400f07fa",
   "metadata": {
    "papermill": {
     "duration": 0.025096,
     "end_time": "2023-05-19T06:22:26.796679",
     "exception": false,
     "start_time": "2023-05-19T06:22:26.771583",
     "status": "completed"
    },
    "tags": []
   },
   "source": [
    "### Adding profit column in DataFrame"
   ]
  },
  {
   "cell_type": "code",
   "execution_count": null,
   "id": "6b7937e0",
   "metadata": {
    "execution": {
     "iopub.execute_input": "2023-05-19T06:22:26.849811Z",
     "iopub.status.busy": "2023-05-19T06:22:26.849423Z",
     "iopub.status.idle": "2023-05-19T06:22:26.855254Z",
     "shell.execute_reply": "2023-05-19T06:22:26.854278Z"
    },
    "papermill": {
     "duration": 0.03535,
     "end_time": "2023-05-19T06:22:26.857577",
     "exception": false,
     "start_time": "2023-05-19T06:22:26.822227",
     "status": "completed"
    },
    "tags": []
   },
   "outputs": [],
   "source": [
    "df['profit'] = df['revenue'] - df['budget']"
   ]
  },
  {
   "cell_type": "code",
   "execution_count": null,
   "id": "f7e64a58",
   "metadata": {
    "execution": {
     "iopub.execute_input": "2023-05-19T06:22:26.912370Z",
     "iopub.status.busy": "2023-05-19T06:22:26.911432Z",
     "iopub.status.idle": "2023-05-19T06:22:26.929826Z",
     "shell.execute_reply": "2023-05-19T06:22:26.928750Z"
    },
    "papermill": {
     "duration": 0.048,
     "end_time": "2023-05-19T06:22:26.932048",
     "exception": false,
     "start_time": "2023-05-19T06:22:26.884048",
     "status": "completed"
    },
    "tags": []
   },
   "outputs": [],
   "source": [
    "df.head()"
   ]
  },
  {
   "cell_type": "markdown",
   "id": "3909b602",
   "metadata": {
    "papermill": {
     "duration": 0.026634,
     "end_time": "2023-05-19T06:22:26.984905",
     "exception": false,
     "start_time": "2023-05-19T06:22:26.958271",
     "status": "completed"
    },
    "tags": []
   },
   "source": [
    "### Saving our DataFrame as csv file"
   ]
  },
  {
   "cell_type": "code",
   "execution_count": null,
   "id": "5670ce97",
   "metadata": {
    "execution": {
     "iopub.execute_input": "2023-05-19T06:22:27.039039Z",
     "iopub.status.busy": "2023-05-19T06:22:27.038608Z",
     "iopub.status.idle": "2023-05-19T06:22:27.181162Z",
     "shell.execute_reply": "2023-05-19T06:22:27.180056Z"
    },
    "papermill": {
     "duration": 0.172904,
     "end_time": "2023-05-19T06:22:27.183922",
     "exception": false,
     "start_time": "2023-05-19T06:22:27.011018",
     "status": "completed"
    },
    "tags": []
   },
   "outputs": [],
   "source": [
    "df.to_csv('movies-2.csv', index=False)"
   ]
  },
  {
   "cell_type": "markdown",
   "id": "3f180a9d",
   "metadata": {
    "papermill": {
     "duration": 0.025491,
     "end_time": "2023-05-19T06:22:27.236181",
     "exception": false,
     "start_time": "2023-05-19T06:22:27.210690",
     "status": "completed"
    },
    "tags": []
   },
   "source": [
    "### Top 10 Movies of Every Category"
   ]
  },
  {
   "cell_type": "code",
   "execution_count": null,
   "id": "efb1d9de",
   "metadata": {
    "execution": {
     "iopub.execute_input": "2023-05-19T06:22:27.290162Z",
     "iopub.status.busy": "2023-05-19T06:22:27.289744Z",
     "iopub.status.idle": "2023-05-19T06:22:27.316345Z",
     "shell.execute_reply": "2023-05-19T06:22:27.315213Z"
    },
    "papermill": {
     "duration": 0.056963,
     "end_time": "2023-05-19T06:22:27.319133",
     "exception": false,
     "start_time": "2023-05-19T06:22:27.262170",
     "status": "completed"
    },
    "tags": []
   },
   "outputs": [],
   "source": [
    "max_budget = df.sort_values('budget', ascending=False).head(10)\n",
    "#max_budget\n",
    "max_revenue = df.sort_values('revenue', ascending=False).head(10)\n",
    "#max_revenue\n",
    "max_profit = df.sort_values('profit', ascending=False).head(10)\n",
    "#max_profit\n",
    "max_loss = df.sort_values('profit', ascending=True).head(10)\n",
    "max_loss['loss'] = -max_loss['profit']\n",
    "#max_loss\n",
    "max_popularity = df.sort_values('popularity', ascending=False).head(10)\n",
    "#max_popularity\n",
    "max_vc = df.sort_values('vote_count', ascending=False).head(10)\n",
    "#max_vc\n",
    "max_va = df.sort_values('vote_average', ascending=False).head(10)\n",
    "#max_va"
   ]
  },
  {
   "cell_type": "markdown",
   "id": "b0e23f0d",
   "metadata": {
    "papermill": {
     "duration": 0.025726,
     "end_time": "2023-05-19T06:22:27.371181",
     "exception": false,
     "start_time": "2023-05-19T06:22:27.345455",
     "status": "completed"
    },
    "tags": []
   },
   "source": [
    "### Visualization of Top 10 Movies of Every Category"
   ]
  },
  {
   "cell_type": "code",
   "execution_count": null,
   "id": "85c38425",
   "metadata": {
    "execution": {
     "iopub.execute_input": "2023-05-19T06:22:27.425056Z",
     "iopub.status.busy": "2023-05-19T06:22:27.424644Z",
     "iopub.status.idle": "2023-05-19T06:22:28.815862Z",
     "shell.execute_reply": "2023-05-19T06:22:28.814702Z"
    },
    "papermill": {
     "duration": 1.423144,
     "end_time": "2023-05-19T06:22:28.820439",
     "exception": false,
     "start_time": "2023-05-19T06:22:27.397295",
     "status": "completed"
    },
    "tags": []
   },
   "outputs": [],
   "source": [
    "fig, axs = plt.subplots(4,1,figsize=(10,28))\n",
    "\n",
    "col_map = plt.get_cmap('tab20')\n",
    "axs[0].barh(max_budget['title'], max_budget['budget'], color=col_map.colors)\n",
    "axs[0].set_title('Top 10 highest budget movies')\n",
    "axs[0].set_xlabel('Budget')\n",
    "axs[0].set_ylabel('Movies')\n",
    "for i in range(len(max_budget)):\n",
    "    axs[0].text(max_budget['budget'].iloc[i], max_budget['title'].iloc[i], max_budget['budget'].iloc[i])\n",
    "\n",
    "col_map = plt.get_cmap('tab10')\n",
    "axs[1].barh(max_revenue['title'], max_revenue['revenue'], color=col_map.colors)\n",
    "axs[1].set_title('Top 10 highest revenue movies')\n",
    "axs[1].set_xlabel('Revenue')\n",
    "axs[1].set_ylabel('Movies')\n",
    "for i in range(len(max_revenue)):\n",
    "    axs[1].text(max_revenue['revenue'].iloc[i], max_revenue['title'].iloc[i], max_revenue['revenue'].iloc[i])\n",
    "\n",
    "col_map = plt.get_cmap('tab20c')\n",
    "axs[2].barh(max_profit['title'], max_profit['profit'], color=col_map.colors)\n",
    "axs[2].set_title('Top 10 most profitable movies')\n",
    "axs[2].set_xlabel('Profit')\n",
    "axs[2].set_ylabel('Movies')\n",
    "for i in range(len(max_profit)):\n",
    "    axs[2].text(max_profit['profit'].iloc[i], max_profit['title'].iloc[i], max_profit['profit'].iloc[i])\n",
    "    \n",
    "col_map = plt.get_cmap('tab20')\n",
    "axs[3].barh(max_loss['title'], max_loss['loss'], color=col_map.colors)\n",
    "axs[3].set_title('Top 10 most loss making movies')\n",
    "axs[3].set_xlabel('Loss')\n",
    "axs[3].set_ylabel('Movies')\n",
    "for i in range(len(max_loss)):\n",
    "    axs[3].text(max_loss['loss'].iloc[i], max_loss['title'].iloc[i], max_loss['loss'].iloc[i])\n",
    "\n",
    "plt.show()"
   ]
  },
  {
   "cell_type": "code",
   "execution_count": null,
   "id": "111f5964",
   "metadata": {
    "execution": {
     "iopub.execute_input": "2023-05-19T06:22:28.885819Z",
     "iopub.status.busy": "2023-05-19T06:22:28.885027Z",
     "iopub.status.idle": "2023-05-19T06:22:29.812776Z",
     "shell.execute_reply": "2023-05-19T06:22:29.811642Z"
    },
    "papermill": {
     "duration": 0.963972,
     "end_time": "2023-05-19T06:22:29.815766",
     "exception": false,
     "start_time": "2023-05-19T06:22:28.851794",
     "status": "completed"
    },
    "tags": []
   },
   "outputs": [],
   "source": [
    "fig, axs = plt.subplots(3,1,figsize=(10,21))\n",
    "\n",
    "col_map = plt.get_cmap('tab20')\n",
    "axs[0].barh(max_popularity['title'], max_popularity['popularity'], color=col_map.colors)\n",
    "axs[0].set_title('Top 10 most popular movies')\n",
    "axs[0].set_xlabel('Popularity')\n",
    "axs[0].set_ylabel('Movies')\n",
    "for i in range(len(max_popularity)):\n",
    "    axs[0].text(max_popularity['popularity'].iloc[i], max_popularity['title'].iloc[i], max_popularity['popularity'].iloc[i])\n",
    "\n",
    "col_map = plt.get_cmap('tab10')\n",
    "axs[1].barh(max_vc['title'], max_vc['vote_count'], color=col_map.colors)\n",
    "axs[1].set_title('Top 10 highest vote count movies')\n",
    "axs[1].set_xlabel('Vote Count')\n",
    "axs[1].set_ylabel('Movies')\n",
    "for i in range(len(max_vc)):\n",
    "    axs[1].text(max_vc['vote_count'].iloc[i], max_vc['title'].iloc[i], max_vc['vote_count'].iloc[i])\n",
    "\n",
    "col_map = plt.get_cmap('tab20c')\n",
    "axs[2].barh(max_va['title'], max_va['vote_average'], color=col_map.colors)\n",
    "axs[2].set_title('Top 10 highest vote average movies')\n",
    "axs[2].set_xlabel('Vote Average')\n",
    "axs[2].set_ylabel('Movies')\n",
    "for i in range(len(max_va)):\n",
    "    axs[2].text(max_va['vote_average'].iloc[i], max_va['title'].iloc[i], max_va['vote_average'].iloc[i])\n",
    "\n",
    "plt.show()"
   ]
  },
  {
   "cell_type": "markdown",
   "id": "600b42da",
   "metadata": {
    "papermill": {
     "duration": 0.031714,
     "end_time": "2023-05-19T06:22:29.879552",
     "exception": false,
     "start_time": "2023-05-19T06:22:29.847838",
     "status": "completed"
    },
    "tags": []
   },
   "source": [
    "### Count of Movies wrt Language in Dataset"
   ]
  },
  {
   "cell_type": "code",
   "execution_count": null,
   "id": "267b954e",
   "metadata": {
    "execution": {
     "iopub.execute_input": "2023-05-19T06:22:29.945430Z",
     "iopub.status.busy": "2023-05-19T06:22:29.945018Z",
     "iopub.status.idle": "2023-05-19T06:22:29.955603Z",
     "shell.execute_reply": "2023-05-19T06:22:29.954764Z"
    },
    "papermill": {
     "duration": 0.046207,
     "end_time": "2023-05-19T06:22:29.957745",
     "exception": false,
     "start_time": "2023-05-19T06:22:29.911538",
     "status": "completed"
    },
    "tags": []
   },
   "outputs": [],
   "source": [
    "df['original_language'].value_counts()"
   ]
  },
  {
   "cell_type": "markdown",
   "id": "67408352",
   "metadata": {
    "papermill": {
     "duration": 0.03191,
     "end_time": "2023-05-19T06:22:30.022045",
     "exception": false,
     "start_time": "2023-05-19T06:22:29.990135",
     "status": "completed"
    },
    "tags": []
   },
   "source": [
    "### No. of all unique genres in Dataset"
   ]
  },
  {
   "cell_type": "code",
   "execution_count": null,
   "id": "40f4ef3e",
   "metadata": {
    "execution": {
     "iopub.execute_input": "2023-05-19T06:22:30.089256Z",
     "iopub.status.busy": "2023-05-19T06:22:30.088508Z",
     "iopub.status.idle": "2023-05-19T06:22:30.211781Z",
     "shell.execute_reply": "2023-05-19T06:22:30.210597Z"
    },
    "papermill": {
     "duration": 0.160237,
     "end_time": "2023-05-19T06:22:30.214497",
     "exception": false,
     "start_time": "2023-05-19T06:22:30.054260",
     "status": "completed"
    },
    "tags": []
   },
   "outputs": [],
   "source": [
    "genres_col = df['genres']\n",
    "# Empty set to store unique genres\n",
    "unique_genres = set()\n",
    "# Iterate over each row in the genres column\n",
    "for genres_list in genres_col:\n",
    "    genres = eval(genres_list)  # Convert the string representation of list to a list\n",
    "    unique_genres.update(genres)  # Add the genres to the set\n",
    "    \n",
    "len(unique_genres)"
   ]
  },
  {
   "cell_type": "markdown",
   "id": "1e03ebdb",
   "metadata": {
    "papermill": {
     "duration": 0.033093,
     "end_time": "2023-05-19T06:22:30.280429",
     "exception": false,
     "start_time": "2023-05-19T06:22:30.247336",
     "status": "completed"
    },
    "tags": []
   },
   "source": [
    "### 5 Most Popular Movies of Every Genre"
   ]
  },
  {
   "cell_type": "code",
   "execution_count": null,
   "id": "180a280b",
   "metadata": {
    "execution": {
     "iopub.execute_input": "2023-05-19T06:22:30.349243Z",
     "iopub.status.busy": "2023-05-19T06:22:30.348796Z",
     "iopub.status.idle": "2023-05-19T06:22:30.513552Z",
     "shell.execute_reply": "2023-05-19T06:22:30.510525Z"
    },
    "papermill": {
     "duration": 0.204631,
     "end_time": "2023-05-19T06:22:30.518922",
     "exception": false,
     "start_time": "2023-05-19T06:22:30.314291",
     "status": "completed"
    },
    "tags": []
   },
   "outputs": [],
   "source": [
    "for genre in unique_genres:\n",
    "    movies = df[df['genres'].str.contains(genre)].sort_values('popularity', ascending=False).head(5)\n",
    "    movie_title = movies['title']\n",
    "    print(genre)\n",
    "    for i ,title in enumerate(movie_title):\n",
    "        print(i+1, title)\n",
    "    print('\\n')"
   ]
  },
  {
   "cell_type": "markdown",
   "id": "4bb1f958",
   "metadata": {
    "papermill": {
     "duration": 0.04374,
     "end_time": "2023-05-19T06:22:30.601712",
     "exception": false,
     "start_time": "2023-05-19T06:22:30.557972",
     "status": "completed"
    },
    "tags": []
   },
   "source": [
    "### 5 Most Profitable Movies of Every Genre"
   ]
  },
  {
   "cell_type": "code",
   "execution_count": null,
   "id": "300b1e2d",
   "metadata": {
    "execution": {
     "iopub.execute_input": "2023-05-19T06:22:30.672543Z",
     "iopub.status.busy": "2023-05-19T06:22:30.671069Z",
     "iopub.status.idle": "2023-05-19T06:22:30.849662Z",
     "shell.execute_reply": "2023-05-19T06:22:30.847665Z"
    },
    "papermill": {
     "duration": 0.217071,
     "end_time": "2023-05-19T06:22:30.852549",
     "exception": false,
     "start_time": "2023-05-19T06:22:30.635478",
     "status": "completed"
    },
    "tags": []
   },
   "outputs": [],
   "source": [
    "for genre in unique_genres:\n",
    "    movies = df[df['genres'].str.contains(genre)].sort_values('profit', ascending=False).head(5)\n",
    "    movie_title = movies['title']\n",
    "    print(genre)\n",
    "    for i ,title in enumerate(movie_title):\n",
    "        print(i+1, title)\n",
    "    print('\\n')"
   ]
  },
  {
   "cell_type": "markdown",
   "id": "b3df6905",
   "metadata": {
    "papermill": {
     "duration": 0.037911,
     "end_time": "2023-05-19T06:22:30.924147",
     "exception": false,
     "start_time": "2023-05-19T06:22:30.886236",
     "status": "completed"
    },
    "tags": []
   },
   "source": [
    "### Top 5 production companies with maximum movie count"
   ]
  },
  {
   "cell_type": "code",
   "execution_count": null,
   "id": "8758e492",
   "metadata": {
    "execution": {
     "iopub.execute_input": "2023-05-19T06:22:30.997427Z",
     "iopub.status.busy": "2023-05-19T06:22:30.996600Z",
     "iopub.status.idle": "2023-05-19T06:22:31.151681Z",
     "shell.execute_reply": "2023-05-19T06:22:31.150807Z"
    },
    "papermill": {
     "duration": 0.193896,
     "end_time": "2023-05-19T06:22:31.154552",
     "exception": false,
     "start_time": "2023-05-19T06:22:30.960656",
     "status": "completed"
    },
    "tags": []
   },
   "outputs": [],
   "source": [
    "companies_column = df['production_companies']\n",
    "\n",
    "# Create an empty dictionary to store company names and their movie counts\n",
    "company_counts = {}\n",
    "\n",
    "# Iterate over each row in the companies column\n",
    "for companies_list in companies_column:\n",
    "    companies = eval(companies_list)  # Convert the string representation of list to a list\n",
    "    for company in companies:\n",
    "        if company in company_counts:\n",
    "            company_counts[company] += 1  # Increment the movie count\n",
    "        else:\n",
    "            company_counts[company] = 1  # Add the company with initial movie count\n",
    "\n",
    "sorted_companies = sorted(company_counts.items(), key=lambda x: x[1], reverse=True)\n",
    "\n",
    "top_5_companies = sorted_companies[:5]\n",
    "\n",
    "for company, count in top_5_companies:\n",
    "    print(company, ': ', count)"
   ]
  },
  {
   "cell_type": "markdown",
   "id": "bc1c40ea",
   "metadata": {
    "papermill": {
     "duration": 0.033289,
     "end_time": "2023-05-19T06:22:31.224663",
     "exception": false,
     "start_time": "2023-05-19T06:22:31.191374",
     "status": "completed"
    },
    "tags": []
   },
   "source": [
    "### Most popular movie in every 5 years with their popularity"
   ]
  },
  {
   "cell_type": "code",
   "execution_count": null,
   "id": "a41bebe0",
   "metadata": {
    "execution": {
     "iopub.execute_input": "2023-05-19T06:22:31.295608Z",
     "iopub.status.busy": "2023-05-19T06:22:31.294653Z",
     "iopub.status.idle": "2023-05-19T06:22:31.384528Z",
     "shell.execute_reply": "2023-05-19T06:22:31.382273Z"
    },
    "papermill": {
     "duration": 0.128648,
     "end_time": "2023-05-19T06:22:31.387924",
     "exception": false,
     "start_time": "2023-05-19T06:22:31.259276",
     "status": "completed"
    },
    "tags": []
   },
   "outputs": [],
   "source": [
    "# Convert the release_date column to datetime\n",
    "df['release_date'] = pd.to_datetime(df['release_date'])\n",
    "\n",
    "# Create a new column for the release half_decade\n",
    "df['release_hd'] = (df['release_date'].dt.year // 5) * 5\n",
    "\n",
    "popular_movies = df.groupby('release_hd').apply(lambda x: x.nlargest(1, 'popularity')) # 1 is for no. of rows we want in every decade\n",
    "\n",
    "for i, r in popular_movies.iterrows():\n",
    "    print(f\"Year: {r['release_hd']}-{r['release_hd']+4}\")\n",
    "    print(\"Movie:\", r['title'])\n",
    "    print(\"Popularity:\", r['popularity'])\n",
    "    print(\"\\n\")"
   ]
  },
  {
   "cell_type": "markdown",
   "id": "94aec94b",
   "metadata": {
    "papermill": {
     "duration": 0.03339,
     "end_time": "2023-05-19T06:22:31.457528",
     "exception": false,
     "start_time": "2023-05-19T06:22:31.424138",
     "status": "completed"
    },
    "tags": []
   },
   "source": [
    "### Average Popularity by Year"
   ]
  },
  {
   "cell_type": "code",
   "execution_count": null,
   "id": "d7dde60c",
   "metadata": {
    "execution": {
     "iopub.execute_input": "2023-05-19T06:22:31.530074Z",
     "iopub.status.busy": "2023-05-19T06:22:31.528915Z",
     "iopub.status.idle": "2023-05-19T06:22:31.541251Z",
     "shell.execute_reply": "2023-05-19T06:22:31.540210Z"
    },
    "papermill": {
     "duration": 0.052211,
     "end_time": "2023-05-19T06:22:31.543765",
     "exception": false,
     "start_time": "2023-05-19T06:22:31.491554",
     "status": "completed"
    },
    "tags": []
   },
   "outputs": [],
   "source": [
    "df['year'] = df['release_date'].dt.year\n",
    "avg_pop = df.groupby('year')['popularity'].mean()"
   ]
  },
  {
   "cell_type": "markdown",
   "id": "83b0a37d",
   "metadata": {
    "papermill": {
     "duration": 0.033492,
     "end_time": "2023-05-19T06:22:31.610988",
     "exception": false,
     "start_time": "2023-05-19T06:22:31.577496",
     "status": "completed"
    },
    "tags": []
   },
   "source": [
    "### Visualization of Categories by Year"
   ]
  },
  {
   "cell_type": "code",
   "execution_count": null,
   "id": "d8106502",
   "metadata": {
    "execution": {
     "iopub.execute_input": "2023-05-19T06:22:31.680373Z",
     "iopub.status.busy": "2023-05-19T06:22:31.679730Z",
     "iopub.status.idle": "2023-05-19T06:22:33.041261Z",
     "shell.execute_reply": "2023-05-19T06:22:33.040202Z"
    },
    "papermill": {
     "duration": 1.400441,
     "end_time": "2023-05-19T06:22:33.045070",
     "exception": false,
     "start_time": "2023-05-19T06:22:31.644629",
     "status": "completed"
    },
    "tags": []
   },
   "outputs": [],
   "source": [
    "fig, axs = plt.subplots(3,2,figsize=(15,21))\n",
    "\n",
    "axs[0,0].plot(avg_pop.index, avg_pop.values)\n",
    "axs[0,0].set_title('Average Popularity with time')\n",
    "axs[0,0].set_xlabel('Year')\n",
    "axs[0,0].set_ylabel('Average Popularity')\n",
    "axs[0,0].set_xticks(np.arange(1900, 2030, step=10),rotation=45)\n",
    "\n",
    "axs[0,1].plot(df.groupby('year')['vote_count'].mean(),color='green')\n",
    "axs[0,1].set_title('Average Vote Count with time')\n",
    "axs[0,1].set_xlabel('Year')\n",
    "axs[0,1].set_ylabel('Vote Count')\n",
    "axs[0,1].set_xticks(np.arange(1900, 2030, step=10),rotation=45)\n",
    "\n",
    "axs[1,0].plot(df.groupby('year')['vote_average'].mean(),color='red')\n",
    "axs[1,0].set_title('Vote Average with time')\n",
    "axs[1,0].set_xlabel('Year')\n",
    "axs[1,0].set_ylabel('Vote Average')\n",
    "axs[1,0].set_xticks(np.arange(1900, 2030, step=10),rotation=45)\n",
    "\n",
    "axs[1,1].plot(df.groupby('year')['budget'].mean(), color='orange')\n",
    "axs[1,1].set_title('Average Budget with time')\n",
    "axs[1,1].set_xlabel('Year')\n",
    "axs[1,1].set_ylabel('Budget')\n",
    "axs[1,1].set_xticks(np.arange(1900, 2030, step=10),rotation=45)\n",
    "\n",
    "axs[2,0].plot(df.groupby('year')['revenue'].mean(),color='blue')\n",
    "axs[2,0].set_title('Revenue with time')\n",
    "axs[2,0].set_xlabel('Year')\n",
    "axs[2,0].set_ylabel('Revenue')\n",
    "axs[2,0].set_xticks(np.arange(1900, 2030, step=10),rotation=45)\n",
    "\n",
    "axs[2,1].plot(df.groupby('year')['profit'].mean(), color='violet')\n",
    "axs[2,1].set_title('Profit with time')\n",
    "axs[2,1].set_xlabel('Year')\n",
    "axs[2,1].set_ylabel('Profit')\n",
    "axs[2,1].set_xticks(np.arange(1900, 2030, step=10),rotation=45)\n",
    "\n",
    "plt.show()"
   ]
  },
  {
   "cell_type": "markdown",
   "id": "db11f938",
   "metadata": {
    "papermill": {
     "duration": 0.038339,
     "end_time": "2023-05-19T06:22:33.121333",
     "exception": false,
     "start_time": "2023-05-19T06:22:33.082994",
     "status": "completed"
    },
    "tags": []
   },
   "source": [
    "### Movie Count with time"
   ]
  },
  {
   "cell_type": "code",
   "execution_count": null,
   "id": "3f404509",
   "metadata": {
    "execution": {
     "iopub.execute_input": "2023-05-19T06:22:33.200783Z",
     "iopub.status.busy": "2023-05-19T06:22:33.200185Z",
     "iopub.status.idle": "2023-05-19T06:22:33.550246Z",
     "shell.execute_reply": "2023-05-19T06:22:33.549004Z"
    },
    "papermill": {
     "duration": 0.393516,
     "end_time": "2023-05-19T06:22:33.552969",
     "exception": false,
     "start_time": "2023-05-19T06:22:33.159453",
     "status": "completed"
    },
    "tags": []
   },
   "outputs": [],
   "source": [
    "movie_count = df['year'].value_counts().sort_index()\n",
    "fig, ax = plt.subplots(figsize=(12,10))\n",
    "plt.plot(movie_count, color='yellow')\n",
    "plt.title('Movies Count with time')\n",
    "plt.xlabel('Year')\n",
    "plt.ylabel('Movies Count')\n",
    "plt.xticks(np.arange(1900, 2030, step=10),rotation=45)\n",
    "for i in range(5):\n",
    "    ax.text(movie_count.index[-5+i], movie_count.values[-5+i], movie_count.values[-5+i])\n",
    "plt.show()"
   ]
  },
  {
   "cell_type": "markdown",
   "id": "d0233758",
   "metadata": {
    "papermill": {
     "duration": 0.038339,
     "end_time": "2023-05-19T06:22:33.630338",
     "exception": false,
     "start_time": "2023-05-19T06:22:33.591999",
     "status": "completed"
    },
    "tags": []
   },
   "source": [
    "### Visualization of Rise and Drop of Popularity with different genres over the time"
   ]
  },
  {
   "cell_type": "code",
   "execution_count": null,
   "id": "ccf9c658",
   "metadata": {
    "execution": {
     "iopub.execute_input": "2023-05-19T06:22:33.711095Z",
     "iopub.status.busy": "2023-05-19T06:22:33.710678Z",
     "iopub.status.idle": "2023-05-19T06:22:40.631574Z",
     "shell.execute_reply": "2023-05-19T06:22:40.630572Z"
    },
    "papermill": {
     "duration": 6.964487,
     "end_time": "2023-05-19T06:22:40.634047",
     "exception": false,
     "start_time": "2023-05-19T06:22:33.669560",
     "status": "completed"
    },
    "tags": []
   },
   "outputs": [],
   "source": [
    "for genre in unique_genres:\n",
    "    movies = df[df['genres'].str.contains(genre)]\n",
    "    avg_popularity = movies.groupby('year')['popularity'].mean()\n",
    "    plt.plot(avg_popularity.index, avg_popularity.values)\n",
    "    plt.title('Rise or Drop in Popularity of '+str(genre)+' Movies over Time')\n",
    "    plt.xlabel('Year')\n",
    "    plt.ylabel('Popularity')\n",
    "    plt.xticks(np.arange(1900, 2030, step=5),rotation=90)\n",
    "    plt.grid(axis='y')\n",
    "    plt.show()"
   ]
  },
  {
   "cell_type": "markdown",
   "id": "93b99b7b",
   "metadata": {
    "papermill": {
     "duration": 0.054258,
     "end_time": "2023-05-19T06:22:40.741783",
     "exception": false,
     "start_time": "2023-05-19T06:22:40.687525",
     "status": "completed"
    },
    "tags": []
   },
   "source": [
    "### Visualization of Rise and Drop of Popularity with different languages over the time"
   ]
  },
  {
   "cell_type": "code",
   "execution_count": null,
   "id": "bb41ad2a",
   "metadata": {
    "execution": {
     "iopub.execute_input": "2023-05-19T06:22:40.849850Z",
     "iopub.status.busy": "2023-05-19T06:22:40.849062Z",
     "iopub.status.idle": "2023-05-19T06:22:43.215833Z",
     "shell.execute_reply": "2023-05-19T06:22:43.214702Z"
    },
    "papermill": {
     "duration": 2.424434,
     "end_time": "2023-05-19T06:22:43.218547",
     "exception": false,
     "start_time": "2023-05-19T06:22:40.794113",
     "status": "completed"
    },
    "tags": []
   },
   "outputs": [],
   "source": [
    "unique_lang = {\"English\",\"Japanese\",\"French\",\"Chinese\",\"German\",\"Russian\"}\n",
    "   \n",
    "for language in unique_lang:\n",
    "    movies = df[df['original_language'].str.contains(language)]\n",
    "    avg_popularity = movies.groupby('year')['popularity'].mean()\n",
    "    plt.plot(avg_popularity.index, avg_popularity.values, color='red')\n",
    "    plt.title('Rise or Drop in Popularity in '+str(language)+' Movies over Time')\n",
    "    plt.xlabel('Year')\n",
    "    plt.ylabel('Popularity')\n",
    "    plt.xticks(np.arange(1900, 2030, step=5),rotation=90)\n",
    "    plt.grid(axis='y')\n",
    "    plt.show()"
   ]
  }
 ],
 "metadata": {
  "kernelspec": {
   "display_name": "Python 3 (ipykernel)",
   "language": "python",
   "name": "python3"
  },
  "language_info": {
   "codemirror_mode": {
    "name": "ipython",
    "version": 3
   },
   "file_extension": ".py",
   "mimetype": "text/x-python",
   "name": "python",
   "nbconvert_exporter": "python",
   "pygments_lexer": "ipython3",
   "version": "3.9.13"
  },
  "papermill": {
   "default_parameters": {},
   "duration": 32.720877,
   "end_time": "2023-05-19T06:22:44.314479",
   "environment_variables": {},
   "exception": null,
   "input_path": "__notebook__.ipynb",
   "output_path": "__notebook__.ipynb",
   "parameters": {},
   "start_time": "2023-05-19T06:22:11.593602",
   "version": "2.4.0"
  }
 },
 "nbformat": 4,
 "nbformat_minor": 5
}
