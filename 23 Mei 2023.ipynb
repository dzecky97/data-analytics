{
 "cells": [
  {
   "cell_type": "code",
   "execution_count": null,
   "id": "b5dc8b4f",
   "metadata": {},
   "outputs": [],
   "source": [
    "import pandas as pd\n",
    "import numpy as np"
   ]
  },
  {
   "cell_type": "code",
   "execution_count": null,
   "id": "b1bb0f74",
   "metadata": {},
   "outputs": [],
   "source": [
    "url = 'https://docs.google.com/spreadsheets/d/1ZSPjphlM9zF_yKkrusIDk_k9ZZRIanBLiNeWVOwyX_s/export?format=csv&gid=760667540'\n",
    "mql = pd.read_csv(url, parse_dates=True)"
   ]
  },
  {
   "cell_type": "code",
   "execution_count": null,
   "id": "bd97c46e",
   "metadata": {},
   "outputs": [],
   "source": [
    "mql.head()"
   ]
  },
  {
   "cell_type": "code",
   "execution_count": null,
   "id": "64351e2f",
   "metadata": {},
   "outputs": [],
   "source": [
    "len(mql)"
   ]
  },
  {
   "cell_type": "code",
   "execution_count": null,
   "id": "4fd18c43",
   "metadata": {},
   "outputs": [],
   "source": [
    "mql.info()"
   ]
  },
  {
   "cell_type": "code",
   "execution_count": null,
   "id": "676f8975",
   "metadata": {},
   "outputs": [],
   "source": [
    "mql.isna().sum()"
   ]
  },
  {
   "cell_type": "code",
   "execution_count": null,
   "id": "6847ece0",
   "metadata": {},
   "outputs": [],
   "source": [
    "mql.describe()"
   ]
  },
  {
   "cell_type": "code",
   "execution_count": null,
   "id": "34c6eff3",
   "metadata": {},
   "outputs": [],
   "source": [
    "mql.duplicated().sum()"
   ]
  },
  {
   "cell_type": "code",
   "execution_count": null,
   "id": "0259b349",
   "metadata": {},
   "outputs": [],
   "source": [
    "for vc in mql:\n",
    "    mql_vc = mql[vc].value_counts().sum()\n",
    "    print(mql_vc)"
   ]
  },
  {
   "cell_type": "code",
   "execution_count": null,
   "id": "c33185c1",
   "metadata": {},
   "outputs": [],
   "source": [
    "for dup in mql:\n",
    "    mql_dup = mql[dup].duplicated().sum()\n",
    "    print(mql_dup)"
   ]
  },
  {
   "cell_type": "code",
   "execution_count": null,
   "id": "1dbce12c",
   "metadata": {},
   "outputs": [],
   "source": [
    "for nu in mql:\n",
    "    mql_nu = mql[nu].nunique()\n",
    "    print(mql_nu)"
   ]
  },
  {
   "cell_type": "code",
   "execution_count": null,
   "id": "8465ef00",
   "metadata": {
    "scrolled": true
   },
   "outputs": [],
   "source": [
    "for dup_vc in mql:\n",
    "    mql_dup_vc = mql[dup_vc].duplicated().value_counts()\n",
    "    print(mql_dup_vc)"
   ]
  },
  {
   "cell_type": "code",
   "execution_count": null,
   "id": "9cabfdbb",
   "metadata": {},
   "outputs": [],
   "source": [
    "print(mql['origin'].unique().tolist())"
   ]
  },
  {
   "cell_type": "code",
   "execution_count": null,
   "id": "a53d68a7",
   "metadata": {},
   "outputs": [],
   "source": [
    "print(mql.columns.tolist())"
   ]
  },
  {
   "cell_type": "code",
   "execution_count": null,
   "id": "f6715506",
   "metadata": {},
   "outputs": [],
   "source": [
    "df_social = mql[mql['origin'] == 'social'][['landing_page_id', 'origin']]\n",
    "df_social.head()"
   ]
  },
  {
   "cell_type": "code",
   "execution_count": null,
   "id": "68c87ddc",
   "metadata": {},
   "outputs": [],
   "source": [
    "df_social['landing_page_id'].duplicated().sum()"
   ]
  },
  {
   "cell_type": "code",
   "execution_count": null,
   "id": "0c517755",
   "metadata": {},
   "outputs": [],
   "source": [
    "df_social.isna().sum()"
   ]
  },
  {
   "cell_type": "code",
   "execution_count": null,
   "id": "64aea44a",
   "metadata": {},
   "outputs": [],
   "source": [
    "df_paid_search = mql[mql['origin'] == 'paid_search'][['landing_page_id', 'origin']]\n",
    "df_paid_search.head()"
   ]
  },
  {
   "cell_type": "code",
   "execution_count": null,
   "id": "04db4a05",
   "metadata": {},
   "outputs": [],
   "source": [
    "df_paid_search['landing_page_id'].duplicated().sum()"
   ]
  },
  {
   "cell_type": "code",
   "execution_count": null,
   "id": "c8ac701c",
   "metadata": {},
   "outputs": [],
   "source": [
    "df_paid_search.isna().sum()"
   ]
  },
  {
   "cell_type": "code",
   "execution_count": null,
   "id": "2669fdd7",
   "metadata": {},
   "outputs": [],
   "source": [
    "df_email = mql[mql['origin'] == 'email'][['landing_page_id', 'origin']]\n",
    "df_email.head()"
   ]
  },
  {
   "cell_type": "code",
   "execution_count": null,
   "id": "82aeb2d3",
   "metadata": {},
   "outputs": [],
   "source": [
    "df_email['landing_page_id'].duplicated().sum()"
   ]
  },
  {
   "cell_type": "code",
   "execution_count": null,
   "id": "d2a4c51b",
   "metadata": {},
   "outputs": [],
   "source": [
    "df_email.isna().sum()"
   ]
  },
  {
   "cell_type": "code",
   "execution_count": null,
   "id": "dcb77899",
   "metadata": {},
   "outputs": [],
   "source": [
    "df_organic_search = mql[mql['origin'] == 'organic_search'][['landing_page_id','origin']]\n",
    "df_unknown = mql[mql['origin'] == 'unknown'][['landing_page_id','origin']]\n",
    "df_referral = mql[mql['origin'] == 'referral'][['landing_page_id','origin']]\n",
    "df_direct_traffic = mql[mql['origin'] == 'direct_traffic'][['landing_page_id','origin']]\n",
    "df_display = mql[mql['origin'] == 'display'][['landing_page_id','origin']]\n",
    "df_nan = mql[mql['origin'] == 'nan'][['landing_page_id','origin']]\n",
    "df_other_publicities = mql[mql['origin'] == 'other_publicities'][['landing_page_id','origin']]\n",
    "df_other = mql[mql['origin'] == 'other'][['landing_page_id','origin']]"
   ]
  },
  {
   "cell_type": "code",
   "execution_count": null,
   "id": "c25cf276",
   "metadata": {},
   "outputs": [],
   "source": [
    "df_organic_search['origin'].duplicated().sum()"
   ]
  },
  {
   "cell_type": "code",
   "execution_count": null,
   "id": "66fa368f",
   "metadata": {},
   "outputs": [],
   "source": [
    "df_organic_search['origin'].value_counts()"
   ]
  },
  {
   "cell_type": "code",
   "execution_count": null,
   "id": "849f7d17",
   "metadata": {},
   "outputs": [],
   "source": [
    "df_unknown['or']"
   ]
  }
 ],
 "metadata": {
  "kernelspec": {
   "display_name": "Python 3 (ipykernel)",
   "language": "python",
   "name": "python3"
  },
  "language_info": {
   "codemirror_mode": {
    "name": "ipython",
    "version": 3
   },
   "file_extension": ".py",
   "mimetype": "text/x-python",
   "name": "python",
   "nbconvert_exporter": "python",
   "pygments_lexer": "ipython3",
   "version": "3.9.13"
  }
 },
 "nbformat": 4,
 "nbformat_minor": 5
}
